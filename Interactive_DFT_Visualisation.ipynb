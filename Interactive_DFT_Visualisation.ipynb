{
  "cells": [
    {
      "cell_type": "markdown",
      "metadata": {
        "id": "_MsHH5xEqyS8"
      },
      "source": [
        "An interactive DFT visualisation, inspired by: https://youtu.be/spUNpyF58BY?si=ywZXRa4QD9QePe56"
      ]
    },
    {
      "cell_type": "code",
      "execution_count": 1,
      "metadata": {
        "id": "YdKoBsegJdfN"
      },
      "outputs": [],
      "source": [
        "from ipywidgets import interact, FloatSlider, IntSlider, Layout, Checkbox\n",
        "# import ipywidgets as widgets\n",
        "import matplotlib.pyplot as plt\n",
        "import numpy as np\n",
        "# import itertools\n",
        "from scipy.fft import fft, fftfreq\n",
        "from matplotlib.gridspec import GridSpec\n",
        "import os\n",
        "from PIL import Image\n",
        "import glob"
      ]
    },
    {
      "cell_type": "code",
      "execution_count": 2,
      "metadata": {
        "id": "ppUllOc_5xBC"
      },
      "outputs": [],
      "source": [
        "# Some parameters\n",
        "max_frequency = 10\n",
        "# TODO: put more parameters here"
      ]
    },
    {
      "cell_type": "code",
      "execution_count": 3,
      "metadata": {
        "id": "vsf6VCYAJvIs"
      },
      "outputs": [],
      "source": [
        "def get_sines(samplerate, frequencies = [1], seconds=3):\n",
        "  time = np.linspace(0, seconds, int(samplerate*seconds))\n",
        "  sines = np.array([np.sin(2*np.pi*f*time) for f in frequencies])\n",
        "  return time, sines\n",
        "\n",
        "def get_complex_coordinates(time, sine, f_wrap):\n",
        "  return np.array([-s*np.exp(complex(0,1)*t*2*np.pi*f_wrap) for t, s in zip(time, sine)])\n",
        "\n",
        "def plot_signal_creator(time, component_sines, cummulative_sine, discrete=False):\n",
        "  plt.rcParams[\"axes.prop_cycle\"] = plt.cycler(\"color\", plt.cm.Pastel1.colors)  # Changing colours to pastel\n",
        "\n",
        "  # Plot each individual sine\n",
        "  if len(component_sines) > 1:  # No need to plot just one component, as it is identical to the cummulative plot\n",
        "    for i, sine in enumerate(component_sines):\n",
        "      plt.plot(time, sine, '--', label= f\"f_{i}\")\n",
        "\n",
        "  # Plot the cummulative of the individual sines\n",
        "  if discrete:\n",
        "    plt.plot(time, cummulative_sine, '.', c='purple', label=\"Signal\")\n",
        "  else:\n",
        "    plt.plot(time, cummulative_sine, c='purple', label=\"Signal\")\n",
        "  plt.xlabel(\"Times (s)\")\n",
        "  plt.ylabel(\"Amplitude\")\n",
        "  plt.title(\"Created signal (sum of sines(s)) in time domain (x[n])\")\n",
        "  # plt.legend()\n",
        "  plt.grid(True)\n",
        "\n",
        "def plot_complex_plane(time, sine, f_wrap, discrete=False):\n",
        "  complex_coordinates = get_complex_coordinates(time, sine, f_wrap)\n",
        "  centre_of_mass = complex_coordinates.mean()\n",
        "\n",
        "  # Thicker horizontal and vertical 0 lines\n",
        "  plt.axhline(0, color='black', linewidth=1)  # Horizontal line\n",
        "  plt.axvline(0, color='black', linewidth=1)  # Vertical line\n",
        "\n",
        "  if discrete:\n",
        "    plt.gca().plot(complex_coordinates.real, complex_coordinates.imag, '.', c='purple')\n",
        "  else:\n",
        "    plt.gca().plot(complex_coordinates.real, complex_coordinates.imag, c='purple')\n",
        "  plt.gca().scatter(centre_of_mass.real, centre_of_mass.imag, c='red', zorder=3)\n",
        "  plt.ylim(-3, 3)\n",
        "  plt.xlim(-3, 3)\n",
        "  plt.xlabel(\"Real\")\n",
        "  plt.ylabel(\"Imaginary\")\n",
        "  plt.title(\"Same as above, but in polar coordinates\\n i.e. \\\"wrapped around complex plane\\\"\")  \n",
        "  plt.grid(True)\n",
        "\n",
        "# Here I implemented the actual Dicrete Fourier Transform, it is good for educational purposes and for comparison with FFT. It is usuable, but slower than the FFT.\n",
        "# Below it is commented out, as it is not used in the visualisation by default. If you want to use it, uncomment the function below.\n",
        "def plot_Ewouts_DFT(time, sine, f_wrap, samplerate, discrete=False):\n",
        "  # Think of f_wraps as the frequency axis in the spectrum plot.\n",
        "  f_wraps = np.linspace(0, 0.5*samplerate, int(0.5*samplerate*np.max(time)), endpoint=False)\n",
        "  complex_sums = np.array([get_complex_coordinates(time, sine, f_wrap).sum() for f_wrap in f_wraps])\n",
        "  amplitudes = np.abs(complex_sums)\n",
        "  if discrete:\n",
        "    plt.gca().plot(f_wraps, amplitudes, '.', c='purple')\n",
        "  else:\n",
        "    plt.gca().plot(f_wraps, amplitudes, c='purple')\n",
        "  plt.title(\"Created Signal in Frequency Domain (frequency vs np.abs(X[k]))\")\n",
        "  plt.gca().plot([f_wrap, f_wrap], [0, np.max(amplitudes)], c='red')\n",
        "  plt.gca().get_yaxis().set_visible(False)\n",
        "  plt.ylabel('Amplitude')\n",
        "  plt.xlabel('Frequency (Hz)')\n",
        "\n",
        "def plot_FFT(sine, f_wrap, samplerate, discrete=False):\n",
        "  # Calculating parameters FFT\n",
        "  period = 1/samplerate\n",
        "  n_samples = len(sine)\n",
        "\n",
        "  # FFT\n",
        "  yf = fft(sine)\n",
        "  xf = fftfreq(n_samples, period)[:n_samples//2]\n",
        "  # xf = fftfreq(n_samples, period)[:n_samples]\n",
        "\n",
        "  # Plot Frequency Domain\n",
        "  if discrete:\n",
        "    plt.gca().plot(xf, 2.0/n_samples * np.abs(yf[0:n_samples//2]), '.', c='purple')\n",
        "  else:\n",
        "    plt.gca().plot(xf, 2.0/n_samples * np.abs(yf[0:n_samples//2]), c='purple')\n",
        "\n",
        "  # plt.gca().plot(xf, 2.0/n_samples * np.abs(yf), c='purple')\n",
        "  plt.gca().plot([f_wrap, f_wrap], [0, 1], c='red')\n",
        "  plt.title(\"Created Signal in Frequency Domain (frequency vs np.abs(X[k])), using scipy.fft\")\n",
        "  plt.xlabel(\"Frequency (Hz)\")\n",
        "  plt.ylabel(\"Amplitude\")\n",
        "\n",
        "def plot_fourier_visualisation(discrete, seconds, samplerate, f_1, f_2, f_3, f_wrap, plt_show=True):\n",
        "  frequencies = [f_1, f_2, f_3]  # Can not pass the frequencies as a list, due to widget unpacking in interact()\n",
        "  frequencies = [f for f in frequencies if f != 0 and f is not None]  # Removing all frequencies that equal 0\n",
        "  time, component_sines = get_sines(samplerate=samplerate, frequencies=frequencies, seconds=seconds)  # Create all the desired component signals\n",
        "  cummulative_sine = component_sines.sum(axis=0)\n",
        "  cummulative_sine = cummulative_sine\n",
        "\n",
        "  # plt.figure(figsize=(32, 10))  # Resizing, for aesthetic purposes\n",
        "\n",
        "  # plt.subplots(2, 2, figsize=(16,3), gridspec_kw={'width_ratios': [1, 3]})\n",
        "  plt.figure(figsize=(16, 6))  # Set the figure size for all subplots\n",
        "\n",
        "  gs = GridSpec(2, 2, height_ratios=[1, 1], width_ratios=[1, 4])\n",
        "\n",
        "  plt.subplot(gs[0, :])  # First subplot spanning both columns\n",
        "  plot_signal_creator(time, component_sines, cummulative_sine, discrete)\n",
        "  plt.subplot(gs[1, 0])  # Second subplot\n",
        "  plot_complex_plane(time, cummulative_sine, f_wrap, discrete)\n",
        "  plt.subplot(gs[1, 1])  # Third subplot\n",
        "  # plot_Ewouts_DFT(time, cummulative_sine, f_wrap, samplerate, discrete)\n",
        "  plot_FFT(cummulative_sine, f_wrap, samplerate, discrete)\n",
        "  if plt_show:\n",
        "    plt.tight_layout()  # Adjust the layout to prevent overlap\n",
        "    plt.show()"
      ]
    },
    {
      "cell_type": "code",
      "execution_count": 4,
      "metadata": {
        "colab": {
          "base_uri": "https://localhost:8080/",
          "height": 785,
          "referenced_widgets": [
            "808cdb5d140c41caa39f6f9a9a59e5c9",
            "4b5d11e3709e43218072d0678ef0750c",
            "29cef34cd99c4b328ddc0821d2d7f115",
            "9daec4063ba44d3880eda4b32fdebe65",
            "065338df8b45466480fba868d4c0d78e",
            "59d9029476c34a949635761263a5babd",
            "1ed13a5649d64c9e8359b8eabae97c16",
            "5b4ce28fc3f943318581992b0f4bcb7f",
            "48c4a02c2ee0440d8ce46196056cbfb5",
            "023fc00adba84c5392eaa720fb4dad19",
            "f7782cc73a2c43398ffd08fa4a1a8f57",
            "996c4d6a4c88421d9b9e8914eff891e1",
            "900d15e9815846a18a91a0fe761ba617",
            "4c32f50afe94485783fe503fdc645d02",
            "be7aed403e4241cd8a567b945d29f0b2",
            "f96bfd76862e4a089f696f8d2cb6925d",
            "2e38ce8dd0fb4b34afcc4720c1c3b5f4",
            "d528421516fb4641bef5de5d4bc763b8",
            "2bbfbc5daf7e4172837801ca1939add3",
            "f175cf923f4b4c448e702fbd5050ae62",
            "9119c6caaefd4706b1dcb9514ad818da",
            "5650cbb41a494286b6f344cfb6912838"
          ]
        },
        "id": "2yhGkqTdJ2dw",
        "outputId": "34491d6a-85de-490d-a610-82857b41a165"
      },
      "outputs": [
        {
          "data": {
            "application/vnd.jupyter.widget-view+json": {
              "model_id": "9c0473c299ef430ea587f3ad028bd402",
              "version_major": 2,
              "version_minor": 0
            },
            "text/plain": [
              "interactive(children=(Checkbox(value=False, description='Discrete', layout=Layout(width='500px'), style=Checkb…"
            ]
          },
          "metadata": {},
          "output_type": "display_data"
        }
      ],
      "source": [
        "# Changing the layout sizes of the sliders (cosmetic/legibility changes)\n",
        "widget_layout = Layout(width='500px')\n",
        "widget_style = {'description_width': '150px'}\n",
        "\n",
        "# The interactive sliders for all the parameters\n",
        "discrete_widget = Checkbox(value=False, description='Discrete', layout=widget_layout, style=widget_style)\n",
        "duration_widget = FloatSlider(min=0.5, max=5, step=0.5, value=1, description=\"Duration (s)\", layout=widget_layout, style=widget_style)\n",
        "samplerate_widget = IntSlider(min=5, max=500, step=1, value=100, description=\"Samplerate (samples/s)\", layout=widget_layout, style=widget_style)\n",
        "f_1_widget = FloatSlider(min=0, max=max_frequency, step=1, value=1, description=\"Sine 1 Frequency (Hz)\", layout=widget_layout, style=widget_style)\n",
        "f_2_widget = FloatSlider(min=0, max=max_frequency, step=1, value=0, description=\"Sine 2 Frequency (Hz)\", layout=widget_layout, style=widget_style)\n",
        "f_3_widget = FloatSlider(min=0, max=max_frequency, step=1, value=0, description=\"Sine 3 Frequency (Hz)\", layout=widget_layout, style=widget_style)\n",
        "f_wrap_widget = FloatSlider(min=0, max=max_frequency, step=0.1, value=0, description=\"f_wrap (cycles/s)\", layout=widget_layout, style=widget_style)\n",
        "\n",
        "# Render the interactive plot created above\n",
        "interact(plot_fourier_visualisation, discrete=discrete_widget, seconds=duration_widget, samplerate=samplerate_widget, f_1=f_1_widget, f_2=f_2_widget, f_3=f_3_widget, f_wrap=f_wrap_widget, continuous_update=False);"
      ]
    },
    {
      "cell_type": "markdown",
      "metadata": {
        "id": "BenKdnnu75Xm"
      },
      "source": [
        "https://prajwalsouza.github.io/Experiments/Fourier-Transform-Visualization.html\n"
      ]
    },
    {
      "cell_type": "code",
      "execution_count": 5,
      "metadata": {},
      "outputs": [
        {
          "name": "stderr",
          "output_type": "stream",
          "text": [
            "C:\\Users\\beeo\\AppData\\Local\\Temp\\ipykernel_23316\\689131757.py:97: RuntimeWarning: More than 20 figures have been opened. Figures created through the pyplot interface (`matplotlib.pyplot.figure`) are retained until explicitly closed and may consume too much memory. (To control this warning, see the rcParam `figure.max_open_warning`). Consider using `matplotlib.pyplot.close()`.\n",
            "  plt.figure(figsize=(16, 6))  # Set the figure size for all subplots\n",
            "C:\\Users\\beeo\\AppData\\Local\\Temp\\ipykernel_23316\\45994061.py:8: RuntimeWarning: More than 20 figures have been opened. Figures created through the pyplot interface (`matplotlib.pyplot.figure`) are retained until explicitly closed and may consume too much memory. (To control this warning, see the rcParam `figure.max_open_warning`). Consider using `matplotlib.pyplot.close()`.\n",
            "  plt.figure()  # Create a new figure\n"
          ]
        },
        {
          "data": {
            "text/plain": [
              "<Figure size 640x480 with 0 Axes>"
            ]
          },
          "metadata": {},
          "output_type": "display_data"
        },
        {
          "data": {
            "text/plain": [
              "<Figure size 640x480 with 0 Axes>"
            ]
          },
          "metadata": {},
          "output_type": "display_data"
        },
        {
          "data": {
            "text/plain": [
              "<Figure size 640x480 with 0 Axes>"
            ]
          },
          "metadata": {},
          "output_type": "display_data"
        },
        {
          "data": {
            "text/plain": [
              "<Figure size 640x480 with 0 Axes>"
            ]
          },
          "metadata": {},
          "output_type": "display_data"
        },
        {
          "data": {
            "text/plain": [
              "<Figure size 640x480 with 0 Axes>"
            ]
          },
          "metadata": {},
          "output_type": "display_data"
        },
        {
          "data": {
            "text/plain": [
              "<Figure size 640x480 with 0 Axes>"
            ]
          },
          "metadata": {},
          "output_type": "display_data"
        },
        {
          "data": {
            "text/plain": [
              "<Figure size 640x480 with 0 Axes>"
            ]
          },
          "metadata": {},
          "output_type": "display_data"
        },
        {
          "data": {
            "text/plain": [
              "<Figure size 640x480 with 0 Axes>"
            ]
          },
          "metadata": {},
          "output_type": "display_data"
        },
        {
          "data": {
            "text/plain": [
              "<Figure size 640x480 with 0 Axes>"
            ]
          },
          "metadata": {},
          "output_type": "display_data"
        },
        {
          "data": {
            "text/plain": [
              "<Figure size 640x480 with 0 Axes>"
            ]
          },
          "metadata": {},
          "output_type": "display_data"
        },
        {
          "data": {
            "text/plain": [
              "<Figure size 640x480 with 0 Axes>"
            ]
          },
          "metadata": {},
          "output_type": "display_data"
        },
        {
          "data": {
            "text/plain": [
              "<Figure size 640x480 with 0 Axes>"
            ]
          },
          "metadata": {},
          "output_type": "display_data"
        },
        {
          "data": {
            "text/plain": [
              "<Figure size 640x480 with 0 Axes>"
            ]
          },
          "metadata": {},
          "output_type": "display_data"
        },
        {
          "data": {
            "text/plain": [
              "<Figure size 640x480 with 0 Axes>"
            ]
          },
          "metadata": {},
          "output_type": "display_data"
        },
        {
          "data": {
            "text/plain": [
              "<Figure size 640x480 with 0 Axes>"
            ]
          },
          "metadata": {},
          "output_type": "display_data"
        },
        {
          "data": {
            "text/plain": [
              "<Figure size 640x480 with 0 Axes>"
            ]
          },
          "metadata": {},
          "output_type": "display_data"
        },
        {
          "data": {
            "text/plain": [
              "<Figure size 640x480 with 0 Axes>"
            ]
          },
          "metadata": {},
          "output_type": "display_data"
        },
        {
          "data": {
            "text/plain": [
              "<Figure size 640x480 with 0 Axes>"
            ]
          },
          "metadata": {},
          "output_type": "display_data"
        },
        {
          "data": {
            "text/plain": [
              "<Figure size 640x480 with 0 Axes>"
            ]
          },
          "metadata": {},
          "output_type": "display_data"
        },
        {
          "data": {
            "text/plain": [
              "<Figure size 640x480 with 0 Axes>"
            ]
          },
          "metadata": {},
          "output_type": "display_data"
        },
        {
          "data": {
            "text/plain": [
              "<Figure size 640x480 with 0 Axes>"
            ]
          },
          "metadata": {},
          "output_type": "display_data"
        },
        {
          "data": {
            "text/plain": [
              "<Figure size 640x480 with 0 Axes>"
            ]
          },
          "metadata": {},
          "output_type": "display_data"
        },
        {
          "data": {
            "text/plain": [
              "<Figure size 640x480 with 0 Axes>"
            ]
          },
          "metadata": {},
          "output_type": "display_data"
        },
        {
          "data": {
            "text/plain": [
              "<Figure size 640x480 with 0 Axes>"
            ]
          },
          "metadata": {},
          "output_type": "display_data"
        },
        {
          "data": {
            "text/plain": [
              "<Figure size 640x480 with 0 Axes>"
            ]
          },
          "metadata": {},
          "output_type": "display_data"
        },
        {
          "data": {
            "text/plain": [
              "<Figure size 640x480 with 0 Axes>"
            ]
          },
          "metadata": {},
          "output_type": "display_data"
        },
        {
          "data": {
            "text/plain": [
              "<Figure size 640x480 with 0 Axes>"
            ]
          },
          "metadata": {},
          "output_type": "display_data"
        },
        {
          "data": {
            "text/plain": [
              "<Figure size 640x480 with 0 Axes>"
            ]
          },
          "metadata": {},
          "output_type": "display_data"
        },
        {
          "data": {
            "text/plain": [
              "<Figure size 640x480 with 0 Axes>"
            ]
          },
          "metadata": {},
          "output_type": "display_data"
        },
        {
          "data": {
            "text/plain": [
              "<Figure size 640x480 with 0 Axes>"
            ]
          },
          "metadata": {},
          "output_type": "display_data"
        },
        {
          "data": {
            "text/plain": [
              "<Figure size 640x480 with 0 Axes>"
            ]
          },
          "metadata": {},
          "output_type": "display_data"
        },
        {
          "data": {
            "text/plain": [
              "<Figure size 640x480 with 0 Axes>"
            ]
          },
          "metadata": {},
          "output_type": "display_data"
        },
        {
          "data": {
            "text/plain": [
              "<Figure size 640x480 with 0 Axes>"
            ]
          },
          "metadata": {},
          "output_type": "display_data"
        },
        {
          "data": {
            "text/plain": [
              "<Figure size 640x480 with 0 Axes>"
            ]
          },
          "metadata": {},
          "output_type": "display_data"
        },
        {
          "data": {
            "text/plain": [
              "<Figure size 640x480 with 0 Axes>"
            ]
          },
          "metadata": {},
          "output_type": "display_data"
        },
        {
          "data": {
            "text/plain": [
              "<Figure size 640x480 with 0 Axes>"
            ]
          },
          "metadata": {},
          "output_type": "display_data"
        },
        {
          "data": {
            "text/plain": [
              "<Figure size 640x480 with 0 Axes>"
            ]
          },
          "metadata": {},
          "output_type": "display_data"
        },
        {
          "data": {
            "text/plain": [
              "<Figure size 640x480 with 0 Axes>"
            ]
          },
          "metadata": {},
          "output_type": "display_data"
        },
        {
          "data": {
            "text/plain": [
              "<Figure size 640x480 with 0 Axes>"
            ]
          },
          "metadata": {},
          "output_type": "display_data"
        },
        {
          "data": {
            "text/plain": [
              "<Figure size 640x480 with 0 Axes>"
            ]
          },
          "metadata": {},
          "output_type": "display_data"
        },
        {
          "data": {
            "text/plain": [
              "<Figure size 640x480 with 0 Axes>"
            ]
          },
          "metadata": {},
          "output_type": "display_data"
        },
        {
          "data": {
            "text/plain": [
              "<Figure size 640x480 with 0 Axes>"
            ]
          },
          "metadata": {},
          "output_type": "display_data"
        },
        {
          "data": {
            "text/plain": [
              "<Figure size 640x480 with 0 Axes>"
            ]
          },
          "metadata": {},
          "output_type": "display_data"
        },
        {
          "data": {
            "text/plain": [
              "<Figure size 640x480 with 0 Axes>"
            ]
          },
          "metadata": {},
          "output_type": "display_data"
        },
        {
          "data": {
            "text/plain": [
              "<Figure size 640x480 with 0 Axes>"
            ]
          },
          "metadata": {},
          "output_type": "display_data"
        },
        {
          "data": {
            "text/plain": [
              "<Figure size 640x480 with 0 Axes>"
            ]
          },
          "metadata": {},
          "output_type": "display_data"
        },
        {
          "data": {
            "text/plain": [
              "<Figure size 640x480 with 0 Axes>"
            ]
          },
          "metadata": {},
          "output_type": "display_data"
        },
        {
          "data": {
            "text/plain": [
              "<Figure size 640x480 with 0 Axes>"
            ]
          },
          "metadata": {},
          "output_type": "display_data"
        },
        {
          "data": {
            "text/plain": [
              "<Figure size 640x480 with 0 Axes>"
            ]
          },
          "metadata": {},
          "output_type": "display_data"
        },
        {
          "data": {
            "text/plain": [
              "<Figure size 640x480 with 0 Axes>"
            ]
          },
          "metadata": {},
          "output_type": "display_data"
        },
        {
          "data": {
            "text/plain": [
              "<Figure size 640x480 with 0 Axes>"
            ]
          },
          "metadata": {},
          "output_type": "display_data"
        },
        {
          "data": {
            "text/plain": [
              "<Figure size 640x480 with 0 Axes>"
            ]
          },
          "metadata": {},
          "output_type": "display_data"
        },
        {
          "data": {
            "text/plain": [
              "<Figure size 640x480 with 0 Axes>"
            ]
          },
          "metadata": {},
          "output_type": "display_data"
        },
        {
          "data": {
            "text/plain": [
              "<Figure size 640x480 with 0 Axes>"
            ]
          },
          "metadata": {},
          "output_type": "display_data"
        },
        {
          "data": {
            "text/plain": [
              "<Figure size 640x480 with 0 Axes>"
            ]
          },
          "metadata": {},
          "output_type": "display_data"
        },
        {
          "data": {
            "text/plain": [
              "<Figure size 640x480 with 0 Axes>"
            ]
          },
          "metadata": {},
          "output_type": "display_data"
        },
        {
          "data": {
            "text/plain": [
              "<Figure size 640x480 with 0 Axes>"
            ]
          },
          "metadata": {},
          "output_type": "display_data"
        },
        {
          "data": {
            "text/plain": [
              "<Figure size 640x480 with 0 Axes>"
            ]
          },
          "metadata": {},
          "output_type": "display_data"
        },
        {
          "data": {
            "text/plain": [
              "<Figure size 640x480 with 0 Axes>"
            ]
          },
          "metadata": {},
          "output_type": "display_data"
        },
        {
          "data": {
            "text/plain": [
              "<Figure size 640x480 with 0 Axes>"
            ]
          },
          "metadata": {},
          "output_type": "display_data"
        },
        {
          "data": {
            "text/plain": [
              "<Figure size 640x480 with 0 Axes>"
            ]
          },
          "metadata": {},
          "output_type": "display_data"
        },
        {
          "data": {
            "text/plain": [
              "<Figure size 640x480 with 0 Axes>"
            ]
          },
          "metadata": {},
          "output_type": "display_data"
        },
        {
          "data": {
            "text/plain": [
              "<Figure size 640x480 with 0 Axes>"
            ]
          },
          "metadata": {},
          "output_type": "display_data"
        },
        {
          "data": {
            "text/plain": [
              "<Figure size 640x480 with 0 Axes>"
            ]
          },
          "metadata": {},
          "output_type": "display_data"
        },
        {
          "data": {
            "text/plain": [
              "<Figure size 640x480 with 0 Axes>"
            ]
          },
          "metadata": {},
          "output_type": "display_data"
        },
        {
          "data": {
            "text/plain": [
              "<Figure size 640x480 with 0 Axes>"
            ]
          },
          "metadata": {},
          "output_type": "display_data"
        },
        {
          "data": {
            "text/plain": [
              "<Figure size 640x480 with 0 Axes>"
            ]
          },
          "metadata": {},
          "output_type": "display_data"
        },
        {
          "data": {
            "text/plain": [
              "<Figure size 640x480 with 0 Axes>"
            ]
          },
          "metadata": {},
          "output_type": "display_data"
        },
        {
          "data": {
            "text/plain": [
              "<Figure size 640x480 with 0 Axes>"
            ]
          },
          "metadata": {},
          "output_type": "display_data"
        },
        {
          "data": {
            "text/plain": [
              "<Figure size 640x480 with 0 Axes>"
            ]
          },
          "metadata": {},
          "output_type": "display_data"
        },
        {
          "data": {
            "text/plain": [
              "<Figure size 640x480 with 0 Axes>"
            ]
          },
          "metadata": {},
          "output_type": "display_data"
        },
        {
          "data": {
            "text/plain": [
              "<Figure size 640x480 with 0 Axes>"
            ]
          },
          "metadata": {},
          "output_type": "display_data"
        },
        {
          "data": {
            "text/plain": [
              "<Figure size 640x480 with 0 Axes>"
            ]
          },
          "metadata": {},
          "output_type": "display_data"
        },
        {
          "data": {
            "text/plain": [
              "<Figure size 640x480 with 0 Axes>"
            ]
          },
          "metadata": {},
          "output_type": "display_data"
        },
        {
          "data": {
            "text/plain": [
              "<Figure size 640x480 with 0 Axes>"
            ]
          },
          "metadata": {},
          "output_type": "display_data"
        },
        {
          "data": {
            "text/plain": [
              "<Figure size 640x480 with 0 Axes>"
            ]
          },
          "metadata": {},
          "output_type": "display_data"
        },
        {
          "data": {
            "text/plain": [
              "<Figure size 640x480 with 0 Axes>"
            ]
          },
          "metadata": {},
          "output_type": "display_data"
        },
        {
          "data": {
            "text/plain": [
              "<Figure size 640x480 with 0 Axes>"
            ]
          },
          "metadata": {},
          "output_type": "display_data"
        },
        {
          "data": {
            "text/plain": [
              "<Figure size 640x480 with 0 Axes>"
            ]
          },
          "metadata": {},
          "output_type": "display_data"
        },
        {
          "data": {
            "text/plain": [
              "<Figure size 640x480 with 0 Axes>"
            ]
          },
          "metadata": {},
          "output_type": "display_data"
        },
        {
          "data": {
            "text/plain": [
              "<Figure size 640x480 with 0 Axes>"
            ]
          },
          "metadata": {},
          "output_type": "display_data"
        },
        {
          "data": {
            "text/plain": [
              "<Figure size 640x480 with 0 Axes>"
            ]
          },
          "metadata": {},
          "output_type": "display_data"
        },
        {
          "data": {
            "text/plain": [
              "<Figure size 640x480 with 0 Axes>"
            ]
          },
          "metadata": {},
          "output_type": "display_data"
        },
        {
          "data": {
            "text/plain": [
              "<Figure size 640x480 with 0 Axes>"
            ]
          },
          "metadata": {},
          "output_type": "display_data"
        },
        {
          "data": {
            "text/plain": [
              "<Figure size 640x480 with 0 Axes>"
            ]
          },
          "metadata": {},
          "output_type": "display_data"
        },
        {
          "data": {
            "text/plain": [
              "<Figure size 640x480 with 0 Axes>"
            ]
          },
          "metadata": {},
          "output_type": "display_data"
        },
        {
          "data": {
            "text/plain": [
              "<Figure size 640x480 with 0 Axes>"
            ]
          },
          "metadata": {},
          "output_type": "display_data"
        },
        {
          "data": {
            "text/plain": [
              "<Figure size 640x480 with 0 Axes>"
            ]
          },
          "metadata": {},
          "output_type": "display_data"
        },
        {
          "data": {
            "text/plain": [
              "<Figure size 640x480 with 0 Axes>"
            ]
          },
          "metadata": {},
          "output_type": "display_data"
        },
        {
          "data": {
            "text/plain": [
              "<Figure size 640x480 with 0 Axes>"
            ]
          },
          "metadata": {},
          "output_type": "display_data"
        },
        {
          "data": {
            "text/plain": [
              "<Figure size 640x480 with 0 Axes>"
            ]
          },
          "metadata": {},
          "output_type": "display_data"
        },
        {
          "data": {
            "text/plain": [
              "<Figure size 640x480 with 0 Axes>"
            ]
          },
          "metadata": {},
          "output_type": "display_data"
        },
        {
          "data": {
            "text/plain": [
              "<Figure size 640x480 with 0 Axes>"
            ]
          },
          "metadata": {},
          "output_type": "display_data"
        },
        {
          "data": {
            "text/plain": [
              "<Figure size 640x480 with 0 Axes>"
            ]
          },
          "metadata": {},
          "output_type": "display_data"
        },
        {
          "data": {
            "text/plain": [
              "<Figure size 640x480 with 0 Axes>"
            ]
          },
          "metadata": {},
          "output_type": "display_data"
        },
        {
          "data": {
            "text/plain": [
              "<Figure size 640x480 with 0 Axes>"
            ]
          },
          "metadata": {},
          "output_type": "display_data"
        },
        {
          "data": {
            "text/plain": [
              "<Figure size 640x480 with 0 Axes>"
            ]
          },
          "metadata": {},
          "output_type": "display_data"
        },
        {
          "data": {
            "text/plain": [
              "<Figure size 640x480 with 0 Axes>"
            ]
          },
          "metadata": {},
          "output_type": "display_data"
        },
        {
          "data": {
            "text/plain": [
              "<Figure size 640x480 with 0 Axes>"
            ]
          },
          "metadata": {},
          "output_type": "display_data"
        },
        {
          "data": {
            "text/plain": [
              "<Figure size 640x480 with 0 Axes>"
            ]
          },
          "metadata": {},
          "output_type": "display_data"
        },
        {
          "data": {
            "text/plain": [
              "<Figure size 640x480 with 0 Axes>"
            ]
          },
          "metadata": {},
          "output_type": "display_data"
        },
        {
          "data": {
            "text/plain": [
              "<Figure size 640x480 with 0 Axes>"
            ]
          },
          "metadata": {},
          "output_type": "display_data"
        },
        {
          "data": {
            "text/plain": [
              "<Figure size 640x480 with 0 Axes>"
            ]
          },
          "metadata": {},
          "output_type": "display_data"
        },
        {
          "data": {
            "text/plain": [
              "<Figure size 640x480 with 0 Axes>"
            ]
          },
          "metadata": {},
          "output_type": "display_data"
        },
        {
          "data": {
            "text/plain": [
              "<Figure size 640x480 with 0 Axes>"
            ]
          },
          "metadata": {},
          "output_type": "display_data"
        },
        {
          "data": {
            "text/plain": [
              "<Figure size 640x480 with 0 Axes>"
            ]
          },
          "metadata": {},
          "output_type": "display_data"
        },
        {
          "data": {
            "text/plain": [
              "<Figure size 640x480 with 0 Axes>"
            ]
          },
          "metadata": {},
          "output_type": "display_data"
        },
        {
          "data": {
            "text/plain": [
              "<Figure size 640x480 with 0 Axes>"
            ]
          },
          "metadata": {},
          "output_type": "display_data"
        },
        {
          "data": {
            "text/plain": [
              "<Figure size 640x480 with 0 Axes>"
            ]
          },
          "metadata": {},
          "output_type": "display_data"
        },
        {
          "data": {
            "text/plain": [
              "<Figure size 640x480 with 0 Axes>"
            ]
          },
          "metadata": {},
          "output_type": "display_data"
        },
        {
          "data": {
            "text/plain": [
              "<Figure size 640x480 with 0 Axes>"
            ]
          },
          "metadata": {},
          "output_type": "display_data"
        },
        {
          "data": {
            "text/plain": [
              "<Figure size 640x480 with 0 Axes>"
            ]
          },
          "metadata": {},
          "output_type": "display_data"
        },
        {
          "data": {
            "text/plain": [
              "<Figure size 640x480 with 0 Axes>"
            ]
          },
          "metadata": {},
          "output_type": "display_data"
        },
        {
          "data": {
            "text/plain": [
              "<Figure size 640x480 with 0 Axes>"
            ]
          },
          "metadata": {},
          "output_type": "display_data"
        },
        {
          "data": {
            "text/plain": [
              "<Figure size 640x480 with 0 Axes>"
            ]
          },
          "metadata": {},
          "output_type": "display_data"
        },
        {
          "data": {
            "text/plain": [
              "<Figure size 640x480 with 0 Axes>"
            ]
          },
          "metadata": {},
          "output_type": "display_data"
        },
        {
          "data": {
            "text/plain": [
              "<Figure size 640x480 with 0 Axes>"
            ]
          },
          "metadata": {},
          "output_type": "display_data"
        },
        {
          "data": {
            "text/plain": [
              "<Figure size 640x480 with 0 Axes>"
            ]
          },
          "metadata": {},
          "output_type": "display_data"
        },
        {
          "data": {
            "text/plain": [
              "<Figure size 640x480 with 0 Axes>"
            ]
          },
          "metadata": {},
          "output_type": "display_data"
        },
        {
          "data": {
            "text/plain": [
              "<Figure size 640x480 with 0 Axes>"
            ]
          },
          "metadata": {},
          "output_type": "display_data"
        },
        {
          "data": {
            "text/plain": [
              "<Figure size 640x480 with 0 Axes>"
            ]
          },
          "metadata": {},
          "output_type": "display_data"
        },
        {
          "data": {
            "text/plain": [
              "<Figure size 640x480 with 0 Axes>"
            ]
          },
          "metadata": {},
          "output_type": "display_data"
        },
        {
          "data": {
            "text/plain": [
              "<Figure size 640x480 with 0 Axes>"
            ]
          },
          "metadata": {},
          "output_type": "display_data"
        },
        {
          "data": {
            "text/plain": [
              "<Figure size 640x480 with 0 Axes>"
            ]
          },
          "metadata": {},
          "output_type": "display_data"
        },
        {
          "data": {
            "text/plain": [
              "<Figure size 640x480 with 0 Axes>"
            ]
          },
          "metadata": {},
          "output_type": "display_data"
        },
        {
          "data": {
            "text/plain": [
              "<Figure size 640x480 with 0 Axes>"
            ]
          },
          "metadata": {},
          "output_type": "display_data"
        },
        {
          "data": {
            "text/plain": [
              "<Figure size 640x480 with 0 Axes>"
            ]
          },
          "metadata": {},
          "output_type": "display_data"
        },
        {
          "data": {
            "text/plain": [
              "<Figure size 640x480 with 0 Axes>"
            ]
          },
          "metadata": {},
          "output_type": "display_data"
        },
        {
          "data": {
            "text/plain": [
              "<Figure size 640x480 with 0 Axes>"
            ]
          },
          "metadata": {},
          "output_type": "display_data"
        },
        {
          "data": {
            "text/plain": [
              "<Figure size 640x480 with 0 Axes>"
            ]
          },
          "metadata": {},
          "output_type": "display_data"
        },
        {
          "data": {
            "text/plain": [
              "<Figure size 640x480 with 0 Axes>"
            ]
          },
          "metadata": {},
          "output_type": "display_data"
        },
        {
          "data": {
            "text/plain": [
              "<Figure size 640x480 with 0 Axes>"
            ]
          },
          "metadata": {},
          "output_type": "display_data"
        },
        {
          "data": {
            "text/plain": [
              "<Figure size 640x480 with 0 Axes>"
            ]
          },
          "metadata": {},
          "output_type": "display_data"
        },
        {
          "data": {
            "text/plain": [
              "<Figure size 640x480 with 0 Axes>"
            ]
          },
          "metadata": {},
          "output_type": "display_data"
        },
        {
          "data": {
            "text/plain": [
              "<Figure size 640x480 with 0 Axes>"
            ]
          },
          "metadata": {},
          "output_type": "display_data"
        },
        {
          "data": {
            "text/plain": [
              "<Figure size 640x480 with 0 Axes>"
            ]
          },
          "metadata": {},
          "output_type": "display_data"
        },
        {
          "data": {
            "text/plain": [
              "<Figure size 640x480 with 0 Axes>"
            ]
          },
          "metadata": {},
          "output_type": "display_data"
        },
        {
          "data": {
            "text/plain": [
              "<Figure size 640x480 with 0 Axes>"
            ]
          },
          "metadata": {},
          "output_type": "display_data"
        },
        {
          "data": {
            "text/plain": [
              "<Figure size 640x480 with 0 Axes>"
            ]
          },
          "metadata": {},
          "output_type": "display_data"
        },
        {
          "data": {
            "text/plain": [
              "<Figure size 640x480 with 0 Axes>"
            ]
          },
          "metadata": {},
          "output_type": "display_data"
        },
        {
          "data": {
            "text/plain": [
              "<Figure size 640x480 with 0 Axes>"
            ]
          },
          "metadata": {},
          "output_type": "display_data"
        },
        {
          "data": {
            "text/plain": [
              "<Figure size 640x480 with 0 Axes>"
            ]
          },
          "metadata": {},
          "output_type": "display_data"
        },
        {
          "data": {
            "text/plain": [
              "<Figure size 640x480 with 0 Axes>"
            ]
          },
          "metadata": {},
          "output_type": "display_data"
        },
        {
          "data": {
            "text/plain": [
              "<Figure size 640x480 with 0 Axes>"
            ]
          },
          "metadata": {},
          "output_type": "display_data"
        },
        {
          "data": {
            "text/plain": [
              "<Figure size 640x480 with 0 Axes>"
            ]
          },
          "metadata": {},
          "output_type": "display_data"
        },
        {
          "data": {
            "text/plain": [
              "<Figure size 640x480 with 0 Axes>"
            ]
          },
          "metadata": {},
          "output_type": "display_data"
        },
        {
          "data": {
            "text/plain": [
              "<Figure size 640x480 with 0 Axes>"
            ]
          },
          "metadata": {},
          "output_type": "display_data"
        },
        {
          "data": {
            "text/plain": [
              "<Figure size 640x480 with 0 Axes>"
            ]
          },
          "metadata": {},
          "output_type": "display_data"
        },
        {
          "data": {
            "text/plain": [
              "<Figure size 640x480 with 0 Axes>"
            ]
          },
          "metadata": {},
          "output_type": "display_data"
        },
        {
          "data": {
            "text/plain": [
              "<Figure size 640x480 with 0 Axes>"
            ]
          },
          "metadata": {},
          "output_type": "display_data"
        },
        {
          "data": {
            "text/plain": [
              "<Figure size 640x480 with 0 Axes>"
            ]
          },
          "metadata": {},
          "output_type": "display_data"
        },
        {
          "data": {
            "text/plain": [
              "<Figure size 640x480 with 0 Axes>"
            ]
          },
          "metadata": {},
          "output_type": "display_data"
        },
        {
          "data": {
            "text/plain": [
              "<Figure size 640x480 with 0 Axes>"
            ]
          },
          "metadata": {},
          "output_type": "display_data"
        },
        {
          "data": {
            "text/plain": [
              "<Figure size 640x480 with 0 Axes>"
            ]
          },
          "metadata": {},
          "output_type": "display_data"
        },
        {
          "data": {
            "text/plain": [
              "<Figure size 640x480 with 0 Axes>"
            ]
          },
          "metadata": {},
          "output_type": "display_data"
        },
        {
          "data": {
            "text/plain": [
              "<Figure size 640x480 with 0 Axes>"
            ]
          },
          "metadata": {},
          "output_type": "display_data"
        },
        {
          "data": {
            "text/plain": [
              "<Figure size 640x480 with 0 Axes>"
            ]
          },
          "metadata": {},
          "output_type": "display_data"
        },
        {
          "data": {
            "text/plain": [
              "<Figure size 640x480 with 0 Axes>"
            ]
          },
          "metadata": {},
          "output_type": "display_data"
        },
        {
          "data": {
            "text/plain": [
              "<Figure size 640x480 with 0 Axes>"
            ]
          },
          "metadata": {},
          "output_type": "display_data"
        },
        {
          "data": {
            "text/plain": [
              "<Figure size 640x480 with 0 Axes>"
            ]
          },
          "metadata": {},
          "output_type": "display_data"
        },
        {
          "data": {
            "text/plain": [
              "<Figure size 640x480 with 0 Axes>"
            ]
          },
          "metadata": {},
          "output_type": "display_data"
        },
        {
          "data": {
            "text/plain": [
              "<Figure size 640x480 with 0 Axes>"
            ]
          },
          "metadata": {},
          "output_type": "display_data"
        },
        {
          "data": {
            "text/plain": [
              "<Figure size 640x480 with 0 Axes>"
            ]
          },
          "metadata": {},
          "output_type": "display_data"
        },
        {
          "data": {
            "text/plain": [
              "<Figure size 640x480 with 0 Axes>"
            ]
          },
          "metadata": {},
          "output_type": "display_data"
        },
        {
          "data": {
            "text/plain": [
              "<Figure size 640x480 with 0 Axes>"
            ]
          },
          "metadata": {},
          "output_type": "display_data"
        },
        {
          "data": {
            "text/plain": [
              "<Figure size 640x480 with 0 Axes>"
            ]
          },
          "metadata": {},
          "output_type": "display_data"
        },
        {
          "data": {
            "text/plain": [
              "<Figure size 640x480 with 0 Axes>"
            ]
          },
          "metadata": {},
          "output_type": "display_data"
        },
        {
          "data": {
            "text/plain": [
              "<Figure size 640x480 with 0 Axes>"
            ]
          },
          "metadata": {},
          "output_type": "display_data"
        },
        {
          "data": {
            "text/plain": [
              "<Figure size 640x480 with 0 Axes>"
            ]
          },
          "metadata": {},
          "output_type": "display_data"
        },
        {
          "data": {
            "text/plain": [
              "<Figure size 640x480 with 0 Axes>"
            ]
          },
          "metadata": {},
          "output_type": "display_data"
        },
        {
          "data": {
            "text/plain": [
              "<Figure size 640x480 with 0 Axes>"
            ]
          },
          "metadata": {},
          "output_type": "display_data"
        },
        {
          "data": {
            "text/plain": [
              "<Figure size 640x480 with 0 Axes>"
            ]
          },
          "metadata": {},
          "output_type": "display_data"
        },
        {
          "data": {
            "text/plain": [
              "<Figure size 640x480 with 0 Axes>"
            ]
          },
          "metadata": {},
          "output_type": "display_data"
        },
        {
          "data": {
            "text/plain": [
              "<Figure size 640x480 with 0 Axes>"
            ]
          },
          "metadata": {},
          "output_type": "display_data"
        },
        {
          "data": {
            "text/plain": [
              "<Figure size 640x480 with 0 Axes>"
            ]
          },
          "metadata": {},
          "output_type": "display_data"
        },
        {
          "data": {
            "text/plain": [
              "<Figure size 640x480 with 0 Axes>"
            ]
          },
          "metadata": {},
          "output_type": "display_data"
        },
        {
          "data": {
            "text/plain": [
              "<Figure size 640x480 with 0 Axes>"
            ]
          },
          "metadata": {},
          "output_type": "display_data"
        },
        {
          "data": {
            "text/plain": [
              "<Figure size 640x480 with 0 Axes>"
            ]
          },
          "metadata": {},
          "output_type": "display_data"
        },
        {
          "data": {
            "text/plain": [
              "<Figure size 640x480 with 0 Axes>"
            ]
          },
          "metadata": {},
          "output_type": "display_data"
        },
        {
          "data": {
            "text/plain": [
              "<Figure size 640x480 with 0 Axes>"
            ]
          },
          "metadata": {},
          "output_type": "display_data"
        },
        {
          "data": {
            "text/plain": [
              "<Figure size 640x480 with 0 Axes>"
            ]
          },
          "metadata": {},
          "output_type": "display_data"
        },
        {
          "data": {
            "text/plain": [
              "<Figure size 640x480 with 0 Axes>"
            ]
          },
          "metadata": {},
          "output_type": "display_data"
        },
        {
          "data": {
            "text/plain": [
              "<Figure size 640x480 with 0 Axes>"
            ]
          },
          "metadata": {},
          "output_type": "display_data"
        },
        {
          "data": {
            "text/plain": [
              "<Figure size 640x480 with 0 Axes>"
            ]
          },
          "metadata": {},
          "output_type": "display_data"
        },
        {
          "data": {
            "text/plain": [
              "<Figure size 640x480 with 0 Axes>"
            ]
          },
          "metadata": {},
          "output_type": "display_data"
        },
        {
          "data": {
            "text/plain": [
              "<Figure size 640x480 with 0 Axes>"
            ]
          },
          "metadata": {},
          "output_type": "display_data"
        },
        {
          "data": {
            "text/plain": [
              "<Figure size 640x480 with 0 Axes>"
            ]
          },
          "metadata": {},
          "output_type": "display_data"
        },
        {
          "data": {
            "text/plain": [
              "<Figure size 640x480 with 0 Axes>"
            ]
          },
          "metadata": {},
          "output_type": "display_data"
        },
        {
          "data": {
            "text/plain": [
              "<Figure size 640x480 with 0 Axes>"
            ]
          },
          "metadata": {},
          "output_type": "display_data"
        },
        {
          "data": {
            "text/plain": [
              "<Figure size 640x480 with 0 Axes>"
            ]
          },
          "metadata": {},
          "output_type": "display_data"
        },
        {
          "data": {
            "text/plain": [
              "<Figure size 640x480 with 0 Axes>"
            ]
          },
          "metadata": {},
          "output_type": "display_data"
        },
        {
          "data": {
            "text/plain": [
              "<Figure size 640x480 with 0 Axes>"
            ]
          },
          "metadata": {},
          "output_type": "display_data"
        },
        {
          "data": {
            "text/plain": [
              "<Figure size 640x480 with 0 Axes>"
            ]
          },
          "metadata": {},
          "output_type": "display_data"
        },
        {
          "data": {
            "text/plain": [
              "<Figure size 640x480 with 0 Axes>"
            ]
          },
          "metadata": {},
          "output_type": "display_data"
        },
        {
          "data": {
            "text/plain": [
              "<Figure size 640x480 with 0 Axes>"
            ]
          },
          "metadata": {},
          "output_type": "display_data"
        },
        {
          "data": {
            "text/plain": [
              "<Figure size 640x480 with 0 Axes>"
            ]
          },
          "metadata": {},
          "output_type": "display_data"
        },
        {
          "data": {
            "text/plain": [
              "<Figure size 640x480 with 0 Axes>"
            ]
          },
          "metadata": {},
          "output_type": "display_data"
        },
        {
          "data": {
            "text/plain": [
              "<Figure size 640x480 with 0 Axes>"
            ]
          },
          "metadata": {},
          "output_type": "display_data"
        },
        {
          "data": {
            "text/plain": [
              "<Figure size 640x480 with 0 Axes>"
            ]
          },
          "metadata": {},
          "output_type": "display_data"
        },
        {
          "data": {
            "text/plain": [
              "<Figure size 640x480 with 0 Axes>"
            ]
          },
          "metadata": {},
          "output_type": "display_data"
        }
      ],
      "source": [
        "# # Create the \"images\" directory if it doesn't exist\n",
        "# if not os.path.exists(\"images\"):\n",
        "#     os.makedirs(\"images\")\n",
        "\n",
        "# f_wraps = np.arange(0, 2, 0.01)\n",
        "\n",
        "# for i, f_wrap in enumerate(f_wraps):\n",
        "#     plt.figure()  # Create a new figure\n",
        "#     plot_fourier_visualisation(discrete=False, seconds=1, samplerate=100, f_1=1, f_2=None, f_3=None, f_wrap=f_wrap, plt_show=False)\n",
        "#     plt.tight_layout()  # Adjust the layout to prevent overlap\n",
        "\n",
        "#     plt.savefig(f\"images/plot_{i}.png\")\n",
        "#     plt.close()\n",
        "\n",
        "# # List of pngs in the images directory, sorted by filename \n",
        "# images = sorted(glob.glob(\"images/*.png\"), key=lambda x: int(os.path.splitext(os.path.basename(x))[0].split('_')[1])) \n",
        "\n",
        "# # Open images and save as GIF\n",
        "# frames = [Image.open(image) for image in images]\n",
        "# frames[0].save('fourier_visualisation.gif', format='GIF', append_images=frames[1:], save_all=True, duration=200, loop=0)"
      ]
    },
    {
      "cell_type": "code",
      "execution_count": 8,
      "metadata": {},
      "outputs": [
        {
          "name": "stderr",
          "output_type": "stream",
          "text": [
            "C:\\Users\\beeo\\AppData\\Local\\Temp\\ipykernel_23316\\689131757.py:97: RuntimeWarning: More than 20 figures have been opened. Figures created through the pyplot interface (`matplotlib.pyplot.figure`) are retained until explicitly closed and may consume too much memory. (To control this warning, see the rcParam `figure.max_open_warning`). Consider using `matplotlib.pyplot.close()`.\n",
            "  plt.figure(figsize=(16, 6))  # Set the figure size for all subplots\n",
            "C:\\Users\\beeo\\AppData\\Local\\Temp\\ipykernel_23316\\194564280.py:15: RuntimeWarning: More than 20 figures have been opened. Figures created through the pyplot interface (`matplotlib.pyplot.figure`) are retained until explicitly closed and may consume too much memory. (To control this warning, see the rcParam `figure.max_open_warning`). Consider using `matplotlib.pyplot.close()`.\n",
            "  plt.figure()  # Create a new figure\n"
          ]
        },
        {
          "data": {
            "text/plain": [
              "<Figure size 640x480 with 0 Axes>"
            ]
          },
          "metadata": {},
          "output_type": "display_data"
        },
        {
          "data": {
            "text/plain": [
              "<Figure size 640x480 with 0 Axes>"
            ]
          },
          "metadata": {},
          "output_type": "display_data"
        },
        {
          "data": {
            "text/plain": [
              "<Figure size 640x480 with 0 Axes>"
            ]
          },
          "metadata": {},
          "output_type": "display_data"
        },
        {
          "data": {
            "text/plain": [
              "<Figure size 640x480 with 0 Axes>"
            ]
          },
          "metadata": {},
          "output_type": "display_data"
        },
        {
          "data": {
            "text/plain": [
              "<Figure size 640x480 with 0 Axes>"
            ]
          },
          "metadata": {},
          "output_type": "display_data"
        },
        {
          "data": {
            "text/plain": [
              "<Figure size 640x480 with 0 Axes>"
            ]
          },
          "metadata": {},
          "output_type": "display_data"
        },
        {
          "data": {
            "text/plain": [
              "<Figure size 640x480 with 0 Axes>"
            ]
          },
          "metadata": {},
          "output_type": "display_data"
        },
        {
          "data": {
            "text/plain": [
              "<Figure size 640x480 with 0 Axes>"
            ]
          },
          "metadata": {},
          "output_type": "display_data"
        },
        {
          "data": {
            "text/plain": [
              "<Figure size 640x480 with 0 Axes>"
            ]
          },
          "metadata": {},
          "output_type": "display_data"
        },
        {
          "data": {
            "text/plain": [
              "<Figure size 640x480 with 0 Axes>"
            ]
          },
          "metadata": {},
          "output_type": "display_data"
        },
        {
          "data": {
            "text/plain": [
              "<Figure size 640x480 with 0 Axes>"
            ]
          },
          "metadata": {},
          "output_type": "display_data"
        },
        {
          "data": {
            "text/plain": [
              "<Figure size 640x480 with 0 Axes>"
            ]
          },
          "metadata": {},
          "output_type": "display_data"
        },
        {
          "data": {
            "text/plain": [
              "<Figure size 640x480 with 0 Axes>"
            ]
          },
          "metadata": {},
          "output_type": "display_data"
        },
        {
          "data": {
            "text/plain": [
              "<Figure size 640x480 with 0 Axes>"
            ]
          },
          "metadata": {},
          "output_type": "display_data"
        },
        {
          "data": {
            "text/plain": [
              "<Figure size 640x480 with 0 Axes>"
            ]
          },
          "metadata": {},
          "output_type": "display_data"
        },
        {
          "data": {
            "text/plain": [
              "<Figure size 640x480 with 0 Axes>"
            ]
          },
          "metadata": {},
          "output_type": "display_data"
        },
        {
          "data": {
            "text/plain": [
              "<Figure size 640x480 with 0 Axes>"
            ]
          },
          "metadata": {},
          "output_type": "display_data"
        },
        {
          "data": {
            "text/plain": [
              "<Figure size 640x480 with 0 Axes>"
            ]
          },
          "metadata": {},
          "output_type": "display_data"
        },
        {
          "data": {
            "text/plain": [
              "<Figure size 640x480 with 0 Axes>"
            ]
          },
          "metadata": {},
          "output_type": "display_data"
        },
        {
          "data": {
            "text/plain": [
              "<Figure size 640x480 with 0 Axes>"
            ]
          },
          "metadata": {},
          "output_type": "display_data"
        },
        {
          "data": {
            "text/plain": [
              "<Figure size 640x480 with 0 Axes>"
            ]
          },
          "metadata": {},
          "output_type": "display_data"
        },
        {
          "data": {
            "text/plain": [
              "<Figure size 640x480 with 0 Axes>"
            ]
          },
          "metadata": {},
          "output_type": "display_data"
        },
        {
          "data": {
            "text/plain": [
              "<Figure size 640x480 with 0 Axes>"
            ]
          },
          "metadata": {},
          "output_type": "display_data"
        },
        {
          "data": {
            "text/plain": [
              "<Figure size 640x480 with 0 Axes>"
            ]
          },
          "metadata": {},
          "output_type": "display_data"
        },
        {
          "data": {
            "text/plain": [
              "<Figure size 640x480 with 0 Axes>"
            ]
          },
          "metadata": {},
          "output_type": "display_data"
        },
        {
          "data": {
            "text/plain": [
              "<Figure size 640x480 with 0 Axes>"
            ]
          },
          "metadata": {},
          "output_type": "display_data"
        },
        {
          "data": {
            "text/plain": [
              "<Figure size 640x480 with 0 Axes>"
            ]
          },
          "metadata": {},
          "output_type": "display_data"
        },
        {
          "data": {
            "text/plain": [
              "<Figure size 640x480 with 0 Axes>"
            ]
          },
          "metadata": {},
          "output_type": "display_data"
        },
        {
          "data": {
            "text/plain": [
              "<Figure size 640x480 with 0 Axes>"
            ]
          },
          "metadata": {},
          "output_type": "display_data"
        },
        {
          "data": {
            "text/plain": [
              "<Figure size 640x480 with 0 Axes>"
            ]
          },
          "metadata": {},
          "output_type": "display_data"
        },
        {
          "data": {
            "text/plain": [
              "<Figure size 640x480 with 0 Axes>"
            ]
          },
          "metadata": {},
          "output_type": "display_data"
        },
        {
          "data": {
            "text/plain": [
              "<Figure size 640x480 with 0 Axes>"
            ]
          },
          "metadata": {},
          "output_type": "display_data"
        },
        {
          "data": {
            "text/plain": [
              "<Figure size 640x480 with 0 Axes>"
            ]
          },
          "metadata": {},
          "output_type": "display_data"
        },
        {
          "data": {
            "text/plain": [
              "<Figure size 640x480 with 0 Axes>"
            ]
          },
          "metadata": {},
          "output_type": "display_data"
        },
        {
          "data": {
            "text/plain": [
              "<Figure size 640x480 with 0 Axes>"
            ]
          },
          "metadata": {},
          "output_type": "display_data"
        },
        {
          "data": {
            "text/plain": [
              "<Figure size 640x480 with 0 Axes>"
            ]
          },
          "metadata": {},
          "output_type": "display_data"
        },
        {
          "data": {
            "text/plain": [
              "<Figure size 640x480 with 0 Axes>"
            ]
          },
          "metadata": {},
          "output_type": "display_data"
        },
        {
          "data": {
            "text/plain": [
              "<Figure size 640x480 with 0 Axes>"
            ]
          },
          "metadata": {},
          "output_type": "display_data"
        },
        {
          "data": {
            "text/plain": [
              "<Figure size 640x480 with 0 Axes>"
            ]
          },
          "metadata": {},
          "output_type": "display_data"
        },
        {
          "data": {
            "text/plain": [
              "<Figure size 640x480 with 0 Axes>"
            ]
          },
          "metadata": {},
          "output_type": "display_data"
        },
        {
          "data": {
            "text/plain": [
              "<Figure size 640x480 with 0 Axes>"
            ]
          },
          "metadata": {},
          "output_type": "display_data"
        },
        {
          "data": {
            "text/plain": [
              "<Figure size 640x480 with 0 Axes>"
            ]
          },
          "metadata": {},
          "output_type": "display_data"
        },
        {
          "data": {
            "text/plain": [
              "<Figure size 640x480 with 0 Axes>"
            ]
          },
          "metadata": {},
          "output_type": "display_data"
        },
        {
          "data": {
            "text/plain": [
              "<Figure size 640x480 with 0 Axes>"
            ]
          },
          "metadata": {},
          "output_type": "display_data"
        },
        {
          "data": {
            "text/plain": [
              "<Figure size 640x480 with 0 Axes>"
            ]
          },
          "metadata": {},
          "output_type": "display_data"
        },
        {
          "data": {
            "text/plain": [
              "<Figure size 640x480 with 0 Axes>"
            ]
          },
          "metadata": {},
          "output_type": "display_data"
        },
        {
          "data": {
            "text/plain": [
              "<Figure size 640x480 with 0 Axes>"
            ]
          },
          "metadata": {},
          "output_type": "display_data"
        },
        {
          "data": {
            "text/plain": [
              "<Figure size 640x480 with 0 Axes>"
            ]
          },
          "metadata": {},
          "output_type": "display_data"
        },
        {
          "data": {
            "text/plain": [
              "<Figure size 640x480 with 0 Axes>"
            ]
          },
          "metadata": {},
          "output_type": "display_data"
        },
        {
          "data": {
            "text/plain": [
              "<Figure size 640x480 with 0 Axes>"
            ]
          },
          "metadata": {},
          "output_type": "display_data"
        },
        {
          "data": {
            "text/plain": [
              "<Figure size 640x480 with 0 Axes>"
            ]
          },
          "metadata": {},
          "output_type": "display_data"
        },
        {
          "data": {
            "text/plain": [
              "<Figure size 640x480 with 0 Axes>"
            ]
          },
          "metadata": {},
          "output_type": "display_data"
        },
        {
          "data": {
            "text/plain": [
              "<Figure size 640x480 with 0 Axes>"
            ]
          },
          "metadata": {},
          "output_type": "display_data"
        },
        {
          "data": {
            "text/plain": [
              "<Figure size 640x480 with 0 Axes>"
            ]
          },
          "metadata": {},
          "output_type": "display_data"
        },
        {
          "data": {
            "text/plain": [
              "<Figure size 640x480 with 0 Axes>"
            ]
          },
          "metadata": {},
          "output_type": "display_data"
        },
        {
          "data": {
            "text/plain": [
              "<Figure size 640x480 with 0 Axes>"
            ]
          },
          "metadata": {},
          "output_type": "display_data"
        },
        {
          "data": {
            "text/plain": [
              "<Figure size 640x480 with 0 Axes>"
            ]
          },
          "metadata": {},
          "output_type": "display_data"
        },
        {
          "data": {
            "text/plain": [
              "<Figure size 640x480 with 0 Axes>"
            ]
          },
          "metadata": {},
          "output_type": "display_data"
        },
        {
          "data": {
            "text/plain": [
              "<Figure size 640x480 with 0 Axes>"
            ]
          },
          "metadata": {},
          "output_type": "display_data"
        },
        {
          "data": {
            "text/plain": [
              "<Figure size 640x480 with 0 Axes>"
            ]
          },
          "metadata": {},
          "output_type": "display_data"
        },
        {
          "data": {
            "text/plain": [
              "<Figure size 640x480 with 0 Axes>"
            ]
          },
          "metadata": {},
          "output_type": "display_data"
        },
        {
          "data": {
            "text/plain": [
              "<Figure size 640x480 with 0 Axes>"
            ]
          },
          "metadata": {},
          "output_type": "display_data"
        },
        {
          "data": {
            "text/plain": [
              "<Figure size 640x480 with 0 Axes>"
            ]
          },
          "metadata": {},
          "output_type": "display_data"
        },
        {
          "data": {
            "text/plain": [
              "<Figure size 640x480 with 0 Axes>"
            ]
          },
          "metadata": {},
          "output_type": "display_data"
        },
        {
          "data": {
            "text/plain": [
              "<Figure size 640x480 with 0 Axes>"
            ]
          },
          "metadata": {},
          "output_type": "display_data"
        },
        {
          "data": {
            "text/plain": [
              "<Figure size 640x480 with 0 Axes>"
            ]
          },
          "metadata": {},
          "output_type": "display_data"
        },
        {
          "data": {
            "text/plain": [
              "<Figure size 640x480 with 0 Axes>"
            ]
          },
          "metadata": {},
          "output_type": "display_data"
        },
        {
          "data": {
            "text/plain": [
              "<Figure size 640x480 with 0 Axes>"
            ]
          },
          "metadata": {},
          "output_type": "display_data"
        },
        {
          "data": {
            "text/plain": [
              "<Figure size 640x480 with 0 Axes>"
            ]
          },
          "metadata": {},
          "output_type": "display_data"
        },
        {
          "data": {
            "text/plain": [
              "<Figure size 640x480 with 0 Axes>"
            ]
          },
          "metadata": {},
          "output_type": "display_data"
        },
        {
          "data": {
            "text/plain": [
              "<Figure size 640x480 with 0 Axes>"
            ]
          },
          "metadata": {},
          "output_type": "display_data"
        },
        {
          "data": {
            "text/plain": [
              "<Figure size 640x480 with 0 Axes>"
            ]
          },
          "metadata": {},
          "output_type": "display_data"
        },
        {
          "data": {
            "text/plain": [
              "<Figure size 640x480 with 0 Axes>"
            ]
          },
          "metadata": {},
          "output_type": "display_data"
        },
        {
          "data": {
            "text/plain": [
              "<Figure size 640x480 with 0 Axes>"
            ]
          },
          "metadata": {},
          "output_type": "display_data"
        },
        {
          "data": {
            "text/plain": [
              "<Figure size 640x480 with 0 Axes>"
            ]
          },
          "metadata": {},
          "output_type": "display_data"
        },
        {
          "data": {
            "text/plain": [
              "<Figure size 640x480 with 0 Axes>"
            ]
          },
          "metadata": {},
          "output_type": "display_data"
        },
        {
          "data": {
            "text/plain": [
              "<Figure size 640x480 with 0 Axes>"
            ]
          },
          "metadata": {},
          "output_type": "display_data"
        },
        {
          "data": {
            "text/plain": [
              "<Figure size 640x480 with 0 Axes>"
            ]
          },
          "metadata": {},
          "output_type": "display_data"
        },
        {
          "data": {
            "text/plain": [
              "<Figure size 640x480 with 0 Axes>"
            ]
          },
          "metadata": {},
          "output_type": "display_data"
        },
        {
          "data": {
            "text/plain": [
              "<Figure size 640x480 with 0 Axes>"
            ]
          },
          "metadata": {},
          "output_type": "display_data"
        },
        {
          "data": {
            "text/plain": [
              "<Figure size 640x480 with 0 Axes>"
            ]
          },
          "metadata": {},
          "output_type": "display_data"
        },
        {
          "data": {
            "text/plain": [
              "<Figure size 640x480 with 0 Axes>"
            ]
          },
          "metadata": {},
          "output_type": "display_data"
        },
        {
          "data": {
            "text/plain": [
              "<Figure size 640x480 with 0 Axes>"
            ]
          },
          "metadata": {},
          "output_type": "display_data"
        },
        {
          "data": {
            "text/plain": [
              "<Figure size 640x480 with 0 Axes>"
            ]
          },
          "metadata": {},
          "output_type": "display_data"
        },
        {
          "data": {
            "text/plain": [
              "<Figure size 640x480 with 0 Axes>"
            ]
          },
          "metadata": {},
          "output_type": "display_data"
        },
        {
          "data": {
            "text/plain": [
              "<Figure size 640x480 with 0 Axes>"
            ]
          },
          "metadata": {},
          "output_type": "display_data"
        },
        {
          "data": {
            "text/plain": [
              "<Figure size 640x480 with 0 Axes>"
            ]
          },
          "metadata": {},
          "output_type": "display_data"
        },
        {
          "data": {
            "text/plain": [
              "<Figure size 640x480 with 0 Axes>"
            ]
          },
          "metadata": {},
          "output_type": "display_data"
        },
        {
          "data": {
            "text/plain": [
              "<Figure size 640x480 with 0 Axes>"
            ]
          },
          "metadata": {},
          "output_type": "display_data"
        },
        {
          "data": {
            "text/plain": [
              "<Figure size 640x480 with 0 Axes>"
            ]
          },
          "metadata": {},
          "output_type": "display_data"
        },
        {
          "data": {
            "text/plain": [
              "<Figure size 640x480 with 0 Axes>"
            ]
          },
          "metadata": {},
          "output_type": "display_data"
        },
        {
          "data": {
            "text/plain": [
              "<Figure size 640x480 with 0 Axes>"
            ]
          },
          "metadata": {},
          "output_type": "display_data"
        },
        {
          "data": {
            "text/plain": [
              "<Figure size 640x480 with 0 Axes>"
            ]
          },
          "metadata": {},
          "output_type": "display_data"
        },
        {
          "data": {
            "text/plain": [
              "<Figure size 640x480 with 0 Axes>"
            ]
          },
          "metadata": {},
          "output_type": "display_data"
        },
        {
          "data": {
            "text/plain": [
              "<Figure size 640x480 with 0 Axes>"
            ]
          },
          "metadata": {},
          "output_type": "display_data"
        },
        {
          "data": {
            "text/plain": [
              "<Figure size 640x480 with 0 Axes>"
            ]
          },
          "metadata": {},
          "output_type": "display_data"
        },
        {
          "data": {
            "text/plain": [
              "<Figure size 640x480 with 0 Axes>"
            ]
          },
          "metadata": {},
          "output_type": "display_data"
        },
        {
          "data": {
            "text/plain": [
              "<Figure size 640x480 with 0 Axes>"
            ]
          },
          "metadata": {},
          "output_type": "display_data"
        },
        {
          "data": {
            "text/plain": [
              "<Figure size 640x480 with 0 Axes>"
            ]
          },
          "metadata": {},
          "output_type": "display_data"
        },
        {
          "data": {
            "text/plain": [
              "<Figure size 640x480 with 0 Axes>"
            ]
          },
          "metadata": {},
          "output_type": "display_data"
        },
        {
          "data": {
            "text/plain": [
              "<Figure size 640x480 with 0 Axes>"
            ]
          },
          "metadata": {},
          "output_type": "display_data"
        },
        {
          "data": {
            "text/plain": [
              "<Figure size 640x480 with 0 Axes>"
            ]
          },
          "metadata": {},
          "output_type": "display_data"
        },
        {
          "data": {
            "text/plain": [
              "<Figure size 640x480 with 0 Axes>"
            ]
          },
          "metadata": {},
          "output_type": "display_data"
        },
        {
          "data": {
            "text/plain": [
              "<Figure size 640x480 with 0 Axes>"
            ]
          },
          "metadata": {},
          "output_type": "display_data"
        },
        {
          "data": {
            "text/plain": [
              "<Figure size 640x480 with 0 Axes>"
            ]
          },
          "metadata": {},
          "output_type": "display_data"
        },
        {
          "data": {
            "text/plain": [
              "<Figure size 640x480 with 0 Axes>"
            ]
          },
          "metadata": {},
          "output_type": "display_data"
        },
        {
          "data": {
            "text/plain": [
              "<Figure size 640x480 with 0 Axes>"
            ]
          },
          "metadata": {},
          "output_type": "display_data"
        },
        {
          "data": {
            "text/plain": [
              "<Figure size 640x480 with 0 Axes>"
            ]
          },
          "metadata": {},
          "output_type": "display_data"
        },
        {
          "data": {
            "text/plain": [
              "<Figure size 640x480 with 0 Axes>"
            ]
          },
          "metadata": {},
          "output_type": "display_data"
        },
        {
          "data": {
            "text/plain": [
              "<Figure size 640x480 with 0 Axes>"
            ]
          },
          "metadata": {},
          "output_type": "display_data"
        },
        {
          "data": {
            "text/plain": [
              "<Figure size 640x480 with 0 Axes>"
            ]
          },
          "metadata": {},
          "output_type": "display_data"
        },
        {
          "data": {
            "text/plain": [
              "<Figure size 640x480 with 0 Axes>"
            ]
          },
          "metadata": {},
          "output_type": "display_data"
        },
        {
          "data": {
            "text/plain": [
              "<Figure size 640x480 with 0 Axes>"
            ]
          },
          "metadata": {},
          "output_type": "display_data"
        },
        {
          "data": {
            "text/plain": [
              "<Figure size 640x480 with 0 Axes>"
            ]
          },
          "metadata": {},
          "output_type": "display_data"
        },
        {
          "data": {
            "text/plain": [
              "<Figure size 640x480 with 0 Axes>"
            ]
          },
          "metadata": {},
          "output_type": "display_data"
        },
        {
          "data": {
            "text/plain": [
              "<Figure size 640x480 with 0 Axes>"
            ]
          },
          "metadata": {},
          "output_type": "display_data"
        },
        {
          "data": {
            "text/plain": [
              "<Figure size 640x480 with 0 Axes>"
            ]
          },
          "metadata": {},
          "output_type": "display_data"
        },
        {
          "data": {
            "text/plain": [
              "<Figure size 640x480 with 0 Axes>"
            ]
          },
          "metadata": {},
          "output_type": "display_data"
        },
        {
          "data": {
            "text/plain": [
              "<Figure size 640x480 with 0 Axes>"
            ]
          },
          "metadata": {},
          "output_type": "display_data"
        },
        {
          "data": {
            "text/plain": [
              "<Figure size 640x480 with 0 Axes>"
            ]
          },
          "metadata": {},
          "output_type": "display_data"
        },
        {
          "data": {
            "text/plain": [
              "<Figure size 640x480 with 0 Axes>"
            ]
          },
          "metadata": {},
          "output_type": "display_data"
        },
        {
          "data": {
            "text/plain": [
              "<Figure size 640x480 with 0 Axes>"
            ]
          },
          "metadata": {},
          "output_type": "display_data"
        },
        {
          "data": {
            "text/plain": [
              "<Figure size 640x480 with 0 Axes>"
            ]
          },
          "metadata": {},
          "output_type": "display_data"
        },
        {
          "data": {
            "text/plain": [
              "<Figure size 640x480 with 0 Axes>"
            ]
          },
          "metadata": {},
          "output_type": "display_data"
        },
        {
          "data": {
            "text/plain": [
              "<Figure size 640x480 with 0 Axes>"
            ]
          },
          "metadata": {},
          "output_type": "display_data"
        },
        {
          "data": {
            "text/plain": [
              "<Figure size 640x480 with 0 Axes>"
            ]
          },
          "metadata": {},
          "output_type": "display_data"
        },
        {
          "data": {
            "text/plain": [
              "<Figure size 640x480 with 0 Axes>"
            ]
          },
          "metadata": {},
          "output_type": "display_data"
        },
        {
          "data": {
            "text/plain": [
              "<Figure size 640x480 with 0 Axes>"
            ]
          },
          "metadata": {},
          "output_type": "display_data"
        },
        {
          "data": {
            "text/plain": [
              "<Figure size 640x480 with 0 Axes>"
            ]
          },
          "metadata": {},
          "output_type": "display_data"
        },
        {
          "data": {
            "text/plain": [
              "<Figure size 640x480 with 0 Axes>"
            ]
          },
          "metadata": {},
          "output_type": "display_data"
        },
        {
          "data": {
            "text/plain": [
              "<Figure size 640x480 with 0 Axes>"
            ]
          },
          "metadata": {},
          "output_type": "display_data"
        },
        {
          "data": {
            "text/plain": [
              "<Figure size 640x480 with 0 Axes>"
            ]
          },
          "metadata": {},
          "output_type": "display_data"
        },
        {
          "data": {
            "text/plain": [
              "<Figure size 640x480 with 0 Axes>"
            ]
          },
          "metadata": {},
          "output_type": "display_data"
        },
        {
          "data": {
            "text/plain": [
              "<Figure size 640x480 with 0 Axes>"
            ]
          },
          "metadata": {},
          "output_type": "display_data"
        },
        {
          "data": {
            "text/plain": [
              "<Figure size 640x480 with 0 Axes>"
            ]
          },
          "metadata": {},
          "output_type": "display_data"
        },
        {
          "data": {
            "text/plain": [
              "<Figure size 640x480 with 0 Axes>"
            ]
          },
          "metadata": {},
          "output_type": "display_data"
        },
        {
          "data": {
            "text/plain": [
              "<Figure size 640x480 with 0 Axes>"
            ]
          },
          "metadata": {},
          "output_type": "display_data"
        },
        {
          "data": {
            "text/plain": [
              "<Figure size 640x480 with 0 Axes>"
            ]
          },
          "metadata": {},
          "output_type": "display_data"
        },
        {
          "data": {
            "text/plain": [
              "<Figure size 640x480 with 0 Axes>"
            ]
          },
          "metadata": {},
          "output_type": "display_data"
        },
        {
          "data": {
            "text/plain": [
              "<Figure size 640x480 with 0 Axes>"
            ]
          },
          "metadata": {},
          "output_type": "display_data"
        },
        {
          "data": {
            "text/plain": [
              "<Figure size 640x480 with 0 Axes>"
            ]
          },
          "metadata": {},
          "output_type": "display_data"
        },
        {
          "data": {
            "text/plain": [
              "<Figure size 640x480 with 0 Axes>"
            ]
          },
          "metadata": {},
          "output_type": "display_data"
        },
        {
          "data": {
            "text/plain": [
              "<Figure size 640x480 with 0 Axes>"
            ]
          },
          "metadata": {},
          "output_type": "display_data"
        },
        {
          "data": {
            "text/plain": [
              "<Figure size 640x480 with 0 Axes>"
            ]
          },
          "metadata": {},
          "output_type": "display_data"
        },
        {
          "data": {
            "text/plain": [
              "<Figure size 640x480 with 0 Axes>"
            ]
          },
          "metadata": {},
          "output_type": "display_data"
        },
        {
          "data": {
            "text/plain": [
              "<Figure size 640x480 with 0 Axes>"
            ]
          },
          "metadata": {},
          "output_type": "display_data"
        },
        {
          "data": {
            "text/plain": [
              "<Figure size 640x480 with 0 Axes>"
            ]
          },
          "metadata": {},
          "output_type": "display_data"
        },
        {
          "data": {
            "text/plain": [
              "<Figure size 640x480 with 0 Axes>"
            ]
          },
          "metadata": {},
          "output_type": "display_data"
        },
        {
          "data": {
            "text/plain": [
              "<Figure size 640x480 with 0 Axes>"
            ]
          },
          "metadata": {},
          "output_type": "display_data"
        },
        {
          "data": {
            "text/plain": [
              "<Figure size 640x480 with 0 Axes>"
            ]
          },
          "metadata": {},
          "output_type": "display_data"
        },
        {
          "data": {
            "text/plain": [
              "<Figure size 640x480 with 0 Axes>"
            ]
          },
          "metadata": {},
          "output_type": "display_data"
        },
        {
          "data": {
            "text/plain": [
              "<Figure size 640x480 with 0 Axes>"
            ]
          },
          "metadata": {},
          "output_type": "display_data"
        },
        {
          "data": {
            "text/plain": [
              "<Figure size 640x480 with 0 Axes>"
            ]
          },
          "metadata": {},
          "output_type": "display_data"
        },
        {
          "data": {
            "text/plain": [
              "<Figure size 640x480 with 0 Axes>"
            ]
          },
          "metadata": {},
          "output_type": "display_data"
        },
        {
          "data": {
            "text/plain": [
              "<Figure size 640x480 with 0 Axes>"
            ]
          },
          "metadata": {},
          "output_type": "display_data"
        },
        {
          "data": {
            "text/plain": [
              "<Figure size 640x480 with 0 Axes>"
            ]
          },
          "metadata": {},
          "output_type": "display_data"
        },
        {
          "data": {
            "text/plain": [
              "<Figure size 640x480 with 0 Axes>"
            ]
          },
          "metadata": {},
          "output_type": "display_data"
        },
        {
          "data": {
            "text/plain": [
              "<Figure size 640x480 with 0 Axes>"
            ]
          },
          "metadata": {},
          "output_type": "display_data"
        },
        {
          "data": {
            "text/plain": [
              "<Figure size 640x480 with 0 Axes>"
            ]
          },
          "metadata": {},
          "output_type": "display_data"
        },
        {
          "data": {
            "text/plain": [
              "<Figure size 640x480 with 0 Axes>"
            ]
          },
          "metadata": {},
          "output_type": "display_data"
        },
        {
          "data": {
            "text/plain": [
              "<Figure size 640x480 with 0 Axes>"
            ]
          },
          "metadata": {},
          "output_type": "display_data"
        },
        {
          "data": {
            "text/plain": [
              "<Figure size 640x480 with 0 Axes>"
            ]
          },
          "metadata": {},
          "output_type": "display_data"
        },
        {
          "data": {
            "text/plain": [
              "<Figure size 640x480 with 0 Axes>"
            ]
          },
          "metadata": {},
          "output_type": "display_data"
        },
        {
          "data": {
            "text/plain": [
              "<Figure size 640x480 with 0 Axes>"
            ]
          },
          "metadata": {},
          "output_type": "display_data"
        },
        {
          "data": {
            "text/plain": [
              "<Figure size 640x480 with 0 Axes>"
            ]
          },
          "metadata": {},
          "output_type": "display_data"
        },
        {
          "data": {
            "text/plain": [
              "<Figure size 640x480 with 0 Axes>"
            ]
          },
          "metadata": {},
          "output_type": "display_data"
        },
        {
          "data": {
            "text/plain": [
              "<Figure size 640x480 with 0 Axes>"
            ]
          },
          "metadata": {},
          "output_type": "display_data"
        },
        {
          "data": {
            "text/plain": [
              "<Figure size 640x480 with 0 Axes>"
            ]
          },
          "metadata": {},
          "output_type": "display_data"
        },
        {
          "data": {
            "text/plain": [
              "<Figure size 640x480 with 0 Axes>"
            ]
          },
          "metadata": {},
          "output_type": "display_data"
        },
        {
          "data": {
            "text/plain": [
              "<Figure size 640x480 with 0 Axes>"
            ]
          },
          "metadata": {},
          "output_type": "display_data"
        },
        {
          "data": {
            "text/plain": [
              "<Figure size 640x480 with 0 Axes>"
            ]
          },
          "metadata": {},
          "output_type": "display_data"
        },
        {
          "data": {
            "text/plain": [
              "<Figure size 640x480 with 0 Axes>"
            ]
          },
          "metadata": {},
          "output_type": "display_data"
        },
        {
          "data": {
            "text/plain": [
              "<Figure size 640x480 with 0 Axes>"
            ]
          },
          "metadata": {},
          "output_type": "display_data"
        },
        {
          "data": {
            "text/plain": [
              "<Figure size 640x480 with 0 Axes>"
            ]
          },
          "metadata": {},
          "output_type": "display_data"
        },
        {
          "data": {
            "text/plain": [
              "<Figure size 640x480 with 0 Axes>"
            ]
          },
          "metadata": {},
          "output_type": "display_data"
        },
        {
          "data": {
            "text/plain": [
              "<Figure size 640x480 with 0 Axes>"
            ]
          },
          "metadata": {},
          "output_type": "display_data"
        },
        {
          "data": {
            "text/plain": [
              "<Figure size 640x480 with 0 Axes>"
            ]
          },
          "metadata": {},
          "output_type": "display_data"
        },
        {
          "data": {
            "text/plain": [
              "<Figure size 640x480 with 0 Axes>"
            ]
          },
          "metadata": {},
          "output_type": "display_data"
        },
        {
          "data": {
            "text/plain": [
              "<Figure size 640x480 with 0 Axes>"
            ]
          },
          "metadata": {},
          "output_type": "display_data"
        },
        {
          "data": {
            "text/plain": [
              "<Figure size 640x480 with 0 Axes>"
            ]
          },
          "metadata": {},
          "output_type": "display_data"
        },
        {
          "data": {
            "text/plain": [
              "<Figure size 640x480 with 0 Axes>"
            ]
          },
          "metadata": {},
          "output_type": "display_data"
        },
        {
          "data": {
            "text/plain": [
              "<Figure size 640x480 with 0 Axes>"
            ]
          },
          "metadata": {},
          "output_type": "display_data"
        },
        {
          "data": {
            "text/plain": [
              "<Figure size 640x480 with 0 Axes>"
            ]
          },
          "metadata": {},
          "output_type": "display_data"
        },
        {
          "data": {
            "text/plain": [
              "<Figure size 640x480 with 0 Axes>"
            ]
          },
          "metadata": {},
          "output_type": "display_data"
        },
        {
          "data": {
            "text/plain": [
              "<Figure size 640x480 with 0 Axes>"
            ]
          },
          "metadata": {},
          "output_type": "display_data"
        },
        {
          "data": {
            "text/plain": [
              "<Figure size 640x480 with 0 Axes>"
            ]
          },
          "metadata": {},
          "output_type": "display_data"
        },
        {
          "data": {
            "text/plain": [
              "<Figure size 640x480 with 0 Axes>"
            ]
          },
          "metadata": {},
          "output_type": "display_data"
        },
        {
          "data": {
            "text/plain": [
              "<Figure size 640x480 with 0 Axes>"
            ]
          },
          "metadata": {},
          "output_type": "display_data"
        },
        {
          "data": {
            "text/plain": [
              "<Figure size 640x480 with 0 Axes>"
            ]
          },
          "metadata": {},
          "output_type": "display_data"
        },
        {
          "data": {
            "text/plain": [
              "<Figure size 640x480 with 0 Axes>"
            ]
          },
          "metadata": {},
          "output_type": "display_data"
        },
        {
          "data": {
            "text/plain": [
              "<Figure size 640x480 with 0 Axes>"
            ]
          },
          "metadata": {},
          "output_type": "display_data"
        },
        {
          "data": {
            "text/plain": [
              "<Figure size 640x480 with 0 Axes>"
            ]
          },
          "metadata": {},
          "output_type": "display_data"
        },
        {
          "data": {
            "text/plain": [
              "<Figure size 640x480 with 0 Axes>"
            ]
          },
          "metadata": {},
          "output_type": "display_data"
        },
        {
          "data": {
            "text/plain": [
              "<Figure size 640x480 with 0 Axes>"
            ]
          },
          "metadata": {},
          "output_type": "display_data"
        },
        {
          "data": {
            "text/plain": [
              "<Figure size 640x480 with 0 Axes>"
            ]
          },
          "metadata": {},
          "output_type": "display_data"
        },
        {
          "data": {
            "text/plain": [
              "<Figure size 640x480 with 0 Axes>"
            ]
          },
          "metadata": {},
          "output_type": "display_data"
        },
        {
          "data": {
            "text/plain": [
              "<Figure size 640x480 with 0 Axes>"
            ]
          },
          "metadata": {},
          "output_type": "display_data"
        },
        {
          "data": {
            "text/plain": [
              "<Figure size 640x480 with 0 Axes>"
            ]
          },
          "metadata": {},
          "output_type": "display_data"
        },
        {
          "data": {
            "text/plain": [
              "<Figure size 640x480 with 0 Axes>"
            ]
          },
          "metadata": {},
          "output_type": "display_data"
        },
        {
          "data": {
            "text/plain": [
              "<Figure size 640x480 with 0 Axes>"
            ]
          },
          "metadata": {},
          "output_type": "display_data"
        }
      ],
      "source": [
        "import os\n",
        "import numpy as np\n",
        "import matplotlib.pyplot as plt\n",
        "import glob\n",
        "# from PIL import Image\n",
        "import cv2\n",
        "\n",
        "# Create the \"images\" directory if it doesn't exist\n",
        "if not os.path.exists(\"images\"):\n",
        "    os.makedirs(\"images\")\n",
        "\n",
        "f_wraps = np.arange(0, 2, 0.01)\n",
        "\n",
        "for i, f_wrap in enumerate(f_wraps):\n",
        "    plt.figure()  # Create a new figure\n",
        "    plot_fourier_visualisation(discrete=False, seconds=1.5, samplerate=100, f_1=1, f_2=None, f_3=None, f_wrap=f_wrap, plt_show=False)\n",
        "    plt.tight_layout()  # Adjust the layout to prevent overlap\n",
        "\n",
        "    plt.savefig(f\"images/plot_{i}.png\")\n",
        "    plt.close()\n",
        "\n",
        "# List of pngs in the images directory, sorted by filename \n",
        "images = sorted(glob.glob(\"images/*.png\"), key=lambda x: int(os.path.splitext(os.path.basename(x))[0].split('_')[1])) \n",
        "\n",
        "# Define the codec and create VideoWriter object\n",
        "frame = cv2.imread(images[0])\n",
        "height, width, layers = frame.shape\n",
        "video = cv2.VideoWriter('fourier_visualisation.mp4', cv2.VideoWriter_fourcc(*'mp4v'), 10, (width, height))\n",
        "\n",
        "for image in images:\n",
        "    video.write(cv2.imread(image))\n",
        "\n",
        "cv2.destroyAllWindows()\n",
        "video.release()"
      ]
    },
    {
      "cell_type": "markdown",
      "metadata": {
        "id": "Ywy_O7PZM_xv"
      },
      "source": [
        "# Discrete Fourier Transform\n",
        "\n",
        "# $$ X[k] = \\sum_{n=0}^{N-1} x[n]e^{- 2 \\pi j \\frac{kn}{N}} $$\n",
        "\n",
        "Where $N$ is the quantity of samples and:\n",
        "\n",
        "$k \\in [0, ..., N-1]$\n",
        "\n",
        "\n",
        "# Fourier Transform\n",
        "\n",
        "$\\displaystyle X(k) = \\int_{-\\infty}^{\\infty} x(t)e^{- 2 \\pi j k t} \\,dt$\n"
      ]
    }
  ],
  "metadata": {
    "colab": {
      "provenance": []
    },
    "kernelspec": {
      "display_name": "Python 3",
      "name": "python3"
    },
    "language_info": {
      "codemirror_mode": {
        "name": "ipython",
        "version": 3
      },
      "file_extension": ".py",
      "mimetype": "text/x-python",
      "name": "python",
      "nbconvert_exporter": "python",
      "pygments_lexer": "ipython3",
      "version": "3.10.11"
    },
    "widgets": {
      "application/vnd.jupyter.widget-state+json": {
        "023fc00adba84c5392eaa720fb4dad19": {
          "model_module": "@jupyter-widgets/base",
          "model_module_version": "1.2.0",
          "model_name": "LayoutModel",
          "state": {
            "_model_module": "@jupyter-widgets/base",
            "_model_module_version": "1.2.0",
            "_model_name": "LayoutModel",
            "_view_count": null,
            "_view_module": "@jupyter-widgets/base",
            "_view_module_version": "1.2.0",
            "_view_name": "LayoutView",
            "align_content": null,
            "align_items": null,
            "align_self": null,
            "border": null,
            "bottom": null,
            "display": null,
            "flex": null,
            "flex_flow": null,
            "grid_area": null,
            "grid_auto_columns": null,
            "grid_auto_flow": null,
            "grid_auto_rows": null,
            "grid_column": null,
            "grid_gap": null,
            "grid_row": null,
            "grid_template_areas": null,
            "grid_template_columns": null,
            "grid_template_rows": null,
            "height": null,
            "justify_content": null,
            "justify_items": null,
            "left": null,
            "margin": null,
            "max_height": null,
            "max_width": null,
            "min_height": null,
            "min_width": null,
            "object_fit": null,
            "object_position": null,
            "order": null,
            "overflow": null,
            "overflow_x": null,
            "overflow_y": null,
            "padding": null,
            "right": null,
            "top": null,
            "visibility": null,
            "width": null
          }
        },
        "065338df8b45466480fba868d4c0d78e": {
          "model_module": "@jupyter-widgets/controls",
          "model_module_version": "1.5.0",
          "model_name": "FloatSliderModel",
          "state": {
            "_dom_classes": [],
            "_model_module": "@jupyter-widgets/controls",
            "_model_module_version": "1.5.0",
            "_model_name": "FloatSliderModel",
            "_view_count": null,
            "_view_module": "@jupyter-widgets/controls",
            "_view_module_version": "1.5.0",
            "_view_name": "FloatSliderView",
            "continuous_update": true,
            "description": "f_2",
            "description_tooltip": null,
            "disabled": false,
            "layout": "IPY_MODEL_f96bfd76862e4a089f696f8d2cb6925d",
            "max": 10,
            "min": 0,
            "orientation": "horizontal",
            "readout": true,
            "readout_format": ".2f",
            "step": 1,
            "style": "IPY_MODEL_2e38ce8dd0fb4b34afcc4720c1c3b5f4",
            "value": 0
          }
        },
        "1ed13a5649d64c9e8359b8eabae97c16": {
          "model_module": "@jupyter-widgets/controls",
          "model_module_version": "1.5.0",
          "model_name": "FloatSliderModel",
          "state": {
            "_dom_classes": [],
            "_model_module": "@jupyter-widgets/controls",
            "_model_module_version": "1.5.0",
            "_model_name": "FloatSliderModel",
            "_view_count": null,
            "_view_module": "@jupyter-widgets/controls",
            "_view_module_version": "1.5.0",
            "_view_name": "FloatSliderView",
            "continuous_update": true,
            "description": "f_wrap",
            "description_tooltip": null,
            "disabled": false,
            "layout": "IPY_MODEL_f175cf923f4b4c448e702fbd5050ae62",
            "max": 10,
            "min": 0,
            "orientation": "horizontal",
            "readout": true,
            "readout_format": ".2f",
            "step": 0.2,
            "style": "IPY_MODEL_9119c6caaefd4706b1dcb9514ad818da",
            "value": 0
          }
        },
        "29cef34cd99c4b328ddc0821d2d7f115": {
          "model_module": "@jupyter-widgets/controls",
          "model_module_version": "1.5.0",
          "model_name": "IntSliderModel",
          "state": {
            "_dom_classes": [],
            "_model_module": "@jupyter-widgets/controls",
            "_model_module_version": "1.5.0",
            "_model_name": "IntSliderModel",
            "_view_count": null,
            "_view_module": "@jupyter-widgets/controls",
            "_view_module_version": "1.5.0",
            "_view_name": "IntSliderView",
            "continuous_update": true,
            "description": "samplerate",
            "description_tooltip": null,
            "disabled": false,
            "layout": "IPY_MODEL_996c4d6a4c88421d9b9e8914eff891e1",
            "max": 500,
            "min": 5,
            "orientation": "horizontal",
            "readout": true,
            "readout_format": "d",
            "step": 50,
            "style": "IPY_MODEL_900d15e9815846a18a91a0fe761ba617",
            "value": 100
          }
        },
        "2bbfbc5daf7e4172837801ca1939add3": {
          "model_module": "@jupyter-widgets/controls",
          "model_module_version": "1.5.0",
          "model_name": "SliderStyleModel",
          "state": {
            "_model_module": "@jupyter-widgets/controls",
            "_model_module_version": "1.5.0",
            "_model_name": "SliderStyleModel",
            "_view_count": null,
            "_view_module": "@jupyter-widgets/base",
            "_view_module_version": "1.2.0",
            "_view_name": "StyleView",
            "description_width": "",
            "handle_color": null
          }
        },
        "2e38ce8dd0fb4b34afcc4720c1c3b5f4": {
          "model_module": "@jupyter-widgets/controls",
          "model_module_version": "1.5.0",
          "model_name": "SliderStyleModel",
          "state": {
            "_model_module": "@jupyter-widgets/controls",
            "_model_module_version": "1.5.0",
            "_model_name": "SliderStyleModel",
            "_view_count": null,
            "_view_module": "@jupyter-widgets/base",
            "_view_module_version": "1.2.0",
            "_view_name": "StyleView",
            "description_width": "",
            "handle_color": null
          }
        },
        "48c4a02c2ee0440d8ce46196056cbfb5": {
          "model_module": "@jupyter-widgets/base",
          "model_module_version": "1.2.0",
          "model_name": "LayoutModel",
          "state": {
            "_model_module": "@jupyter-widgets/base",
            "_model_module_version": "1.2.0",
            "_model_name": "LayoutModel",
            "_view_count": null,
            "_view_module": "@jupyter-widgets/base",
            "_view_module_version": "1.2.0",
            "_view_name": "LayoutView",
            "align_content": null,
            "align_items": null,
            "align_self": null,
            "border": null,
            "bottom": null,
            "display": null,
            "flex": null,
            "flex_flow": null,
            "grid_area": null,
            "grid_auto_columns": null,
            "grid_auto_flow": null,
            "grid_auto_rows": null,
            "grid_column": null,
            "grid_gap": null,
            "grid_row": null,
            "grid_template_areas": null,
            "grid_template_columns": null,
            "grid_template_rows": null,
            "height": null,
            "justify_content": null,
            "justify_items": null,
            "left": null,
            "margin": null,
            "max_height": null,
            "max_width": null,
            "min_height": null,
            "min_width": null,
            "object_fit": null,
            "object_position": null,
            "order": null,
            "overflow": null,
            "overflow_x": null,
            "overflow_y": null,
            "padding": null,
            "right": null,
            "top": null,
            "visibility": null,
            "width": null
          }
        },
        "4b5d11e3709e43218072d0678ef0750c": {
          "model_module": "@jupyter-widgets/controls",
          "model_module_version": "1.5.0",
          "model_name": "FloatSliderModel",
          "state": {
            "_dom_classes": [],
            "_model_module": "@jupyter-widgets/controls",
            "_model_module_version": "1.5.0",
            "_model_name": "FloatSliderModel",
            "_view_count": null,
            "_view_module": "@jupyter-widgets/controls",
            "_view_module_version": "1.5.0",
            "_view_name": "FloatSliderView",
            "continuous_update": true,
            "description": "seconds",
            "description_tooltip": null,
            "disabled": false,
            "layout": "IPY_MODEL_023fc00adba84c5392eaa720fb4dad19",
            "max": 5,
            "min": 0,
            "orientation": "horizontal",
            "readout": true,
            "readout_format": ".2f",
            "step": 0.5,
            "style": "IPY_MODEL_f7782cc73a2c43398ffd08fa4a1a8f57",
            "value": 5
          }
        },
        "4c32f50afe94485783fe503fdc645d02": {
          "model_module": "@jupyter-widgets/base",
          "model_module_version": "1.2.0",
          "model_name": "LayoutModel",
          "state": {
            "_model_module": "@jupyter-widgets/base",
            "_model_module_version": "1.2.0",
            "_model_name": "LayoutModel",
            "_view_count": null,
            "_view_module": "@jupyter-widgets/base",
            "_view_module_version": "1.2.0",
            "_view_name": "LayoutView",
            "align_content": null,
            "align_items": null,
            "align_self": null,
            "border": null,
            "bottom": null,
            "display": null,
            "flex": null,
            "flex_flow": null,
            "grid_area": null,
            "grid_auto_columns": null,
            "grid_auto_flow": null,
            "grid_auto_rows": null,
            "grid_column": null,
            "grid_gap": null,
            "grid_row": null,
            "grid_template_areas": null,
            "grid_template_columns": null,
            "grid_template_rows": null,
            "height": null,
            "justify_content": null,
            "justify_items": null,
            "left": null,
            "margin": null,
            "max_height": null,
            "max_width": null,
            "min_height": null,
            "min_width": null,
            "object_fit": null,
            "object_position": null,
            "order": null,
            "overflow": null,
            "overflow_x": null,
            "overflow_y": null,
            "padding": null,
            "right": null,
            "top": null,
            "visibility": null,
            "width": null
          }
        },
        "5650cbb41a494286b6f344cfb6912838": {
          "model_module": "@jupyter-widgets/base",
          "model_module_version": "1.2.0",
          "model_name": "LayoutModel",
          "state": {
            "_model_module": "@jupyter-widgets/base",
            "_model_module_version": "1.2.0",
            "_model_name": "LayoutModel",
            "_view_count": null,
            "_view_module": "@jupyter-widgets/base",
            "_view_module_version": "1.2.0",
            "_view_name": "LayoutView",
            "align_content": null,
            "align_items": null,
            "align_self": null,
            "border": null,
            "bottom": null,
            "display": null,
            "flex": null,
            "flex_flow": null,
            "grid_area": null,
            "grid_auto_columns": null,
            "grid_auto_flow": null,
            "grid_auto_rows": null,
            "grid_column": null,
            "grid_gap": null,
            "grid_row": null,
            "grid_template_areas": null,
            "grid_template_columns": null,
            "grid_template_rows": null,
            "height": null,
            "justify_content": null,
            "justify_items": null,
            "left": null,
            "margin": null,
            "max_height": null,
            "max_width": null,
            "min_height": null,
            "min_width": null,
            "object_fit": null,
            "object_position": null,
            "order": null,
            "overflow": null,
            "overflow_x": null,
            "overflow_y": null,
            "padding": null,
            "right": null,
            "top": null,
            "visibility": null,
            "width": null
          }
        },
        "59d9029476c34a949635761263a5babd": {
          "model_module": "@jupyter-widgets/controls",
          "model_module_version": "1.5.0",
          "model_name": "FloatSliderModel",
          "state": {
            "_dom_classes": [],
            "_model_module": "@jupyter-widgets/controls",
            "_model_module_version": "1.5.0",
            "_model_name": "FloatSliderModel",
            "_view_count": null,
            "_view_module": "@jupyter-widgets/controls",
            "_view_module_version": "1.5.0",
            "_view_name": "FloatSliderView",
            "continuous_update": true,
            "description": "f_3",
            "description_tooltip": null,
            "disabled": false,
            "layout": "IPY_MODEL_d528421516fb4641bef5de5d4bc763b8",
            "max": 10,
            "min": 0,
            "orientation": "horizontal",
            "readout": true,
            "readout_format": ".2f",
            "step": 1,
            "style": "IPY_MODEL_2bbfbc5daf7e4172837801ca1939add3",
            "value": 0
          }
        },
        "5b4ce28fc3f943318581992b0f4bcb7f": {
          "model_module": "@jupyter-widgets/output",
          "model_module_version": "1.0.0",
          "model_name": "OutputModel",
          "state": {
            "_dom_classes": [],
            "_model_module": "@jupyter-widgets/output",
            "_model_module_version": "1.0.0",
            "_model_name": "OutputModel",
            "_view_count": null,
            "_view_module": "@jupyter-widgets/output",
            "_view_module_version": "1.0.0",
            "_view_name": "OutputView",
            "layout": "IPY_MODEL_5650cbb41a494286b6f344cfb6912838",
            "msg_id": "",
            "outputs": [
              {
                "data": {
                  "image/png": "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\n",
                  "text/plain": "<Figure size 1600x200 with 1 Axes>"
                },
                "metadata": {},
                "output_type": "display_data"
              },
              {
                "data": {
                  "image/png": "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\n",
                  "text/plain": "<Figure size 1600x300 with 2 Axes>"
                },
                "metadata": {},
                "output_type": "display_data"
              }
            ]
          }
        },
        "808cdb5d140c41caa39f6f9a9a59e5c9": {
          "model_module": "@jupyter-widgets/controls",
          "model_module_version": "1.5.0",
          "model_name": "VBoxModel",
          "state": {
            "_dom_classes": [
              "widget-interact"
            ],
            "_model_module": "@jupyter-widgets/controls",
            "_model_module_version": "1.5.0",
            "_model_name": "VBoxModel",
            "_view_count": null,
            "_view_module": "@jupyter-widgets/controls",
            "_view_module_version": "1.5.0",
            "_view_name": "VBoxView",
            "box_style": "",
            "children": [
              "IPY_MODEL_4b5d11e3709e43218072d0678ef0750c",
              "IPY_MODEL_29cef34cd99c4b328ddc0821d2d7f115",
              "IPY_MODEL_9daec4063ba44d3880eda4b32fdebe65",
              "IPY_MODEL_065338df8b45466480fba868d4c0d78e",
              "IPY_MODEL_59d9029476c34a949635761263a5babd",
              "IPY_MODEL_1ed13a5649d64c9e8359b8eabae97c16",
              "IPY_MODEL_5b4ce28fc3f943318581992b0f4bcb7f"
            ],
            "layout": "IPY_MODEL_48c4a02c2ee0440d8ce46196056cbfb5"
          }
        },
        "900d15e9815846a18a91a0fe761ba617": {
          "model_module": "@jupyter-widgets/controls",
          "model_module_version": "1.5.0",
          "model_name": "SliderStyleModel",
          "state": {
            "_model_module": "@jupyter-widgets/controls",
            "_model_module_version": "1.5.0",
            "_model_name": "SliderStyleModel",
            "_view_count": null,
            "_view_module": "@jupyter-widgets/base",
            "_view_module_version": "1.2.0",
            "_view_name": "StyleView",
            "description_width": "",
            "handle_color": null
          }
        },
        "9119c6caaefd4706b1dcb9514ad818da": {
          "model_module": "@jupyter-widgets/controls",
          "model_module_version": "1.5.0",
          "model_name": "SliderStyleModel",
          "state": {
            "_model_module": "@jupyter-widgets/controls",
            "_model_module_version": "1.5.0",
            "_model_name": "SliderStyleModel",
            "_view_count": null,
            "_view_module": "@jupyter-widgets/base",
            "_view_module_version": "1.2.0",
            "_view_name": "StyleView",
            "description_width": "",
            "handle_color": null
          }
        },
        "996c4d6a4c88421d9b9e8914eff891e1": {
          "model_module": "@jupyter-widgets/base",
          "model_module_version": "1.2.0",
          "model_name": "LayoutModel",
          "state": {
            "_model_module": "@jupyter-widgets/base",
            "_model_module_version": "1.2.0",
            "_model_name": "LayoutModel",
            "_view_count": null,
            "_view_module": "@jupyter-widgets/base",
            "_view_module_version": "1.2.0",
            "_view_name": "LayoutView",
            "align_content": null,
            "align_items": null,
            "align_self": null,
            "border": null,
            "bottom": null,
            "display": null,
            "flex": null,
            "flex_flow": null,
            "grid_area": null,
            "grid_auto_columns": null,
            "grid_auto_flow": null,
            "grid_auto_rows": null,
            "grid_column": null,
            "grid_gap": null,
            "grid_row": null,
            "grid_template_areas": null,
            "grid_template_columns": null,
            "grid_template_rows": null,
            "height": null,
            "justify_content": null,
            "justify_items": null,
            "left": null,
            "margin": null,
            "max_height": null,
            "max_width": null,
            "min_height": null,
            "min_width": null,
            "object_fit": null,
            "object_position": null,
            "order": null,
            "overflow": null,
            "overflow_x": null,
            "overflow_y": null,
            "padding": null,
            "right": null,
            "top": null,
            "visibility": null,
            "width": null
          }
        },
        "9daec4063ba44d3880eda4b32fdebe65": {
          "model_module": "@jupyter-widgets/controls",
          "model_module_version": "1.5.0",
          "model_name": "FloatSliderModel",
          "state": {
            "_dom_classes": [],
            "_model_module": "@jupyter-widgets/controls",
            "_model_module_version": "1.5.0",
            "_model_name": "FloatSliderModel",
            "_view_count": null,
            "_view_module": "@jupyter-widgets/controls",
            "_view_module_version": "1.5.0",
            "_view_name": "FloatSliderView",
            "continuous_update": true,
            "description": "f_1",
            "description_tooltip": null,
            "disabled": false,
            "layout": "IPY_MODEL_4c32f50afe94485783fe503fdc645d02",
            "max": 10,
            "min": 1,
            "orientation": "horizontal",
            "readout": true,
            "readout_format": ".2f",
            "step": 1,
            "style": "IPY_MODEL_be7aed403e4241cd8a567b945d29f0b2",
            "value": 1
          }
        },
        "be7aed403e4241cd8a567b945d29f0b2": {
          "model_module": "@jupyter-widgets/controls",
          "model_module_version": "1.5.0",
          "model_name": "SliderStyleModel",
          "state": {
            "_model_module": "@jupyter-widgets/controls",
            "_model_module_version": "1.5.0",
            "_model_name": "SliderStyleModel",
            "_view_count": null,
            "_view_module": "@jupyter-widgets/base",
            "_view_module_version": "1.2.0",
            "_view_name": "StyleView",
            "description_width": "",
            "handle_color": null
          }
        },
        "d528421516fb4641bef5de5d4bc763b8": {
          "model_module": "@jupyter-widgets/base",
          "model_module_version": "1.2.0",
          "model_name": "LayoutModel",
          "state": {
            "_model_module": "@jupyter-widgets/base",
            "_model_module_version": "1.2.0",
            "_model_name": "LayoutModel",
            "_view_count": null,
            "_view_module": "@jupyter-widgets/base",
            "_view_module_version": "1.2.0",
            "_view_name": "LayoutView",
            "align_content": null,
            "align_items": null,
            "align_self": null,
            "border": null,
            "bottom": null,
            "display": null,
            "flex": null,
            "flex_flow": null,
            "grid_area": null,
            "grid_auto_columns": null,
            "grid_auto_flow": null,
            "grid_auto_rows": null,
            "grid_column": null,
            "grid_gap": null,
            "grid_row": null,
            "grid_template_areas": null,
            "grid_template_columns": null,
            "grid_template_rows": null,
            "height": null,
            "justify_content": null,
            "justify_items": null,
            "left": null,
            "margin": null,
            "max_height": null,
            "max_width": null,
            "min_height": null,
            "min_width": null,
            "object_fit": null,
            "object_position": null,
            "order": null,
            "overflow": null,
            "overflow_x": null,
            "overflow_y": null,
            "padding": null,
            "right": null,
            "top": null,
            "visibility": null,
            "width": null
          }
        },
        "f175cf923f4b4c448e702fbd5050ae62": {
          "model_module": "@jupyter-widgets/base",
          "model_module_version": "1.2.0",
          "model_name": "LayoutModel",
          "state": {
            "_model_module": "@jupyter-widgets/base",
            "_model_module_version": "1.2.0",
            "_model_name": "LayoutModel",
            "_view_count": null,
            "_view_module": "@jupyter-widgets/base",
            "_view_module_version": "1.2.0",
            "_view_name": "LayoutView",
            "align_content": null,
            "align_items": null,
            "align_self": null,
            "border": null,
            "bottom": null,
            "display": null,
            "flex": null,
            "flex_flow": null,
            "grid_area": null,
            "grid_auto_columns": null,
            "grid_auto_flow": null,
            "grid_auto_rows": null,
            "grid_column": null,
            "grid_gap": null,
            "grid_row": null,
            "grid_template_areas": null,
            "grid_template_columns": null,
            "grid_template_rows": null,
            "height": null,
            "justify_content": null,
            "justify_items": null,
            "left": null,
            "margin": null,
            "max_height": null,
            "max_width": null,
            "min_height": null,
            "min_width": null,
            "object_fit": null,
            "object_position": null,
            "order": null,
            "overflow": null,
            "overflow_x": null,
            "overflow_y": null,
            "padding": null,
            "right": null,
            "top": null,
            "visibility": null,
            "width": null
          }
        },
        "f7782cc73a2c43398ffd08fa4a1a8f57": {
          "model_module": "@jupyter-widgets/controls",
          "model_module_version": "1.5.0",
          "model_name": "SliderStyleModel",
          "state": {
            "_model_module": "@jupyter-widgets/controls",
            "_model_module_version": "1.5.0",
            "_model_name": "SliderStyleModel",
            "_view_count": null,
            "_view_module": "@jupyter-widgets/base",
            "_view_module_version": "1.2.0",
            "_view_name": "StyleView",
            "description_width": "",
            "handle_color": null
          }
        },
        "f96bfd76862e4a089f696f8d2cb6925d": {
          "model_module": "@jupyter-widgets/base",
          "model_module_version": "1.2.0",
          "model_name": "LayoutModel",
          "state": {
            "_model_module": "@jupyter-widgets/base",
            "_model_module_version": "1.2.0",
            "_model_name": "LayoutModel",
            "_view_count": null,
            "_view_module": "@jupyter-widgets/base",
            "_view_module_version": "1.2.0",
            "_view_name": "LayoutView",
            "align_content": null,
            "align_items": null,
            "align_self": null,
            "border": null,
            "bottom": null,
            "display": null,
            "flex": null,
            "flex_flow": null,
            "grid_area": null,
            "grid_auto_columns": null,
            "grid_auto_flow": null,
            "grid_auto_rows": null,
            "grid_column": null,
            "grid_gap": null,
            "grid_row": null,
            "grid_template_areas": null,
            "grid_template_columns": null,
            "grid_template_rows": null,
            "height": null,
            "justify_content": null,
            "justify_items": null,
            "left": null,
            "margin": null,
            "max_height": null,
            "max_width": null,
            "min_height": null,
            "min_width": null,
            "object_fit": null,
            "object_position": null,
            "order": null,
            "overflow": null,
            "overflow_x": null,
            "overflow_y": null,
            "padding": null,
            "right": null,
            "top": null,
            "visibility": null,
            "width": null
          }
        }
      }
    }
  },
  "nbformat": 4,
  "nbformat_minor": 0
}
