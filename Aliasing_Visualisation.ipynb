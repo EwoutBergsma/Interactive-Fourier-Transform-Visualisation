{
 "cells": [
  {
   "cell_type": "code",
   "execution_count": 1,
   "metadata": {},
   "outputs": [],
   "source": [
    "from ipywidgets import interact, FloatSlider, IntSlider, Layout\n",
    "import numpy as np\n",
    "import matplotlib.pyplot as plt\n"
   ]
  },
  {
   "cell_type": "code",
   "execution_count": 2,
   "metadata": {},
   "outputs": [],
   "source": [
    "def get_sine(duration=1, samplerate=10, frequency=1, amplitude=1, phase=0):\n",
    "    time = np.linspace(0, duration, int(duration * samplerate))\n",
    "    sine = amplitude * np.sin(2 * np.pi * frequency * time + phase)\n",
    "    return time, sine\n",
    "\n",
    "def plot_timeseries(time, sine, title=\"Time Series\", xlabel=\"Time (s)\", ylabel=\"Amplitude\"):\n",
    "    plt.title(title)\n",
    "    # plt.xlabel(xlabel)  # TODO: layout overlaps, fix this\n",
    "    plt.ylabel(ylabel)\n",
    "    plt.plot(time, sine, '.')\n",
    "\n",
    "def plot_FFT(sine, samplerate=10):\n",
    "    N = len(sine)\n",
    "    freq = np.fft.fftfreq(N, 1/samplerate)[:N//2]\n",
    "    fft = np.fft.fft(sine)[:N//2]\n",
    "    plt.plot(freq, 2/N *np.abs(fft), '.')\n",
    "    plt.xlabel(\"Frequency (Hz)\")\n",
    "    plt.ylabel(\"Amplitude\")\n",
    "    # plt.xlim(0, 100)  # TODO: improve this\n",
    "    plt.title(\"FFT\")\n"
   ]
  },
  {
   "cell_type": "code",
   "execution_count": 3,
   "metadata": {},
   "outputs": [],
   "source": [
    "def get_complex_coordinates(time, sine, f_wrap):\n",
    "  return np.array([-s*np.exp(complex(0,1)*t*2*np.pi*f_wrap) for t, s in zip(time, sine)])\n",
    "\n",
    "def plot_Ewouts_DFT(time, sine, f_wrap, samplerate, discrete=False):\n",
    "  # Think of f_wraps as the frequency axis in the spectrum plot.\n",
    "  f_wraps = np.linspace(0, 0.5*samplerate, int(0.5*samplerate*np.max(time)), endpoint=False)\n",
    "  complex_sums = np.array([get_complex_coordinates(time, sine, f_wrap).sum() for f_wrap in f_wraps])\n",
    "  amplitudes = np.abs(complex_sums)\n",
    "  if discrete:\n",
    "    plt.gca().plot(f_wraps, amplitudes, '.', c='purple')\n",
    "  else:\n",
    "    plt.gca().plot(f_wraps, amplitudes, c='purple')\n",
    "  plt.title(\"Ewout's DFT\")\n",
    "  plt.gca().get_yaxis().set_visible(False)\n",
    "  plt.ylabel('Amplitude')\n",
    "  plt.xlabel('Frequency (Hz)')"
   ]
  },
  {
   "cell_type": "code",
   "execution_count": 4,
   "metadata": {},
   "outputs": [],
   "source": [
    "def plot_timeseries_FFT(duration=1, samplerate=10, frequency=1):\n",
    "    time, sine = get_sine(duration, samplerate, frequency)\n",
    "    plt.figure(figsize=(12,5))\n",
    "    plt.tight_layout()\n",
    "    plt.subplot(2, 1, 1)\n",
    "    plot_timeseries(time, sine)\n",
    "    plt.subplot(2, 1, 2)\n",
    "    # plot_FFT(sine, samplerate=samplerate)\n",
    "    plot_Ewouts_DFT(time, sine, frequency, samplerate, discrete=True)\n",
    "    plt.show()"
   ]
  },
  {
   "cell_type": "code",
   "execution_count": 5,
   "metadata": {},
   "outputs": [
    {
     "data": {
      "application/vnd.jupyter.widget-view+json": {
       "model_id": "0957c2d412f74b3eabc3d85ad88beff2",
       "version_major": 2,
       "version_minor": 0
      },
      "text/plain": [
       "interactive(children=(FloatSlider(value=1.0, description='Duration (s)', layout=Layout(width='500px'), max=5.0…"
      ]
     },
     "metadata": {},
     "output_type": "display_data"
    },
    {
     "data": {
      "text/plain": [
       "<function __main__.plot_timeseries_FFT(duration=1, samplerate=10, frequency=1)>"
      ]
     },
     "execution_count": 5,
     "metadata": {},
     "output_type": "execute_result"
    }
   ],
   "source": [
    "# Changing the layout sizes of the sliders (cosmetic/legibility changes)\n",
    "widget_layout = Layout(width='500px')\n",
    "widget_style = {'description_width': '150px'}\n",
    "\n",
    "duration_widget = FloatSlider(min=0.5, max=5, step=0.5, value=1, description=\"Duration (s)\", layout=widget_layout, style=widget_style)\n",
    "samplerate_widget = IntSlider(min=2, max=500, step=1, value=100, description=\"Samplerate (samples/s)\", layout=widget_layout, style=widget_style)\n",
    "signal_frequency = FloatSlider(min=1, max=50, step=1, value=1, description=\"Signal Frequency (Hz)\", layout=widget_layout, style=widget_style)\n",
    "\n",
    "interact(plot_timeseries_FFT, duration=duration_widget, samplerate=samplerate_widget, frequency=signal_frequency)\n"
   ]
  }
 ],
 "metadata": {
  "kernelspec": {
   "display_name": ".venv",
   "language": "python",
   "name": "python3"
  },
  "language_info": {
   "codemirror_mode": {
    "name": "ipython",
    "version": 3
   },
   "file_extension": ".py",
   "mimetype": "text/x-python",
   "name": "python",
   "nbconvert_exporter": "python",
   "pygments_lexer": "ipython3",
   "version": "3.12.10"
  }
 },
 "nbformat": 4,
 "nbformat_minor": 2
}
